{
  "nbformat": 4,
  "nbformat_minor": 0,
  "metadata": {
    "colab": {
      "provenance": []
    },
    "kernelspec": {
      "name": "python3",
      "display_name": "Python 3"
    }
  },
  "cells": [
    {
      "cell_type": "markdown",
      "metadata": {
        "id": "OBc93xD1zMDD"
      },
      "source": [
        "# I. $LU$ factorization of a square matrix\n",
        "When we premultply $A$ by lower triangular elemetary matrices $\\Lambda_j$ it is trasfrommed in an  upper triangular matrix $U$\n",
        "\n",
        "$$  \\Lambda_{n-1}  \\ldots\\Lambda_2  \\Lambda_1 A  = U$$\n",
        "\n",
        "$$  A  = (\\Lambda_{n-1}  \\ldots\\Lambda_2  \\Lambda_2 )^{-1} U$$\n",
        "\n",
        "The inverse of a product of matrices is the revesre product of inverses\n",
        "$$  A  = (\\Lambda_1^{-1}  \\Lambda_2^{-1} \\ldots  \\Lambda_{n-1}^{-1}) U$$\n",
        "\n",
        "and inverse of a Lower Triangular Elemetary Matrix is minus the matrix $\\Lambda_j^{-1} = - \\Lambda_j$, so\n",
        "\n",
        "$$ A  =  (-\\Lambda_1) (-\\Lambda_2) \\ldots   (-\\Lambda_{n-1})  U$$\n",
        "\n",
        "So the $LU$ column pivot factorization is\n",
        "$$  A  = L U$$\n",
        "with\n",
        "$$ U = \\Lambda_{n-1}  \\ldots\\Lambda_2  \\Lambda_1 A  $$\n",
        "an upper triangular matrix\n",
        "$$ L  =  \\Lambda_1^{-1}  \\Lambda_2^{-1} \\ldots  \\Lambda_{n-1}^{-1} m = (-\\Lambda_1) (-\\Lambda_2) \\ldots   (-\\Lambda_{n-1})  $$\n",
        "an lower triangular matrix."
      ]
    },
    {
      "cell_type": "markdown",
      "metadata": {
        "id": "dmO1wEA5zVVS"
      },
      "source": [
        "Consider a simple naive implementation of the LU decomposition.\n",
        "\n",
        "Note that we're using the `numpy` arrays to represent matrices [do **not** use `np.matrix`]."
      ]
    },
    {
      "cell_type": "code",
      "metadata": {
        "id": "0jzv0-yyzDM2",
        "colab": {
          "base_uri": "https://localhost:8080/"
        },
        "outputId": "9dc3e8d3-dbd3-4c87-b517-7f21fc08f838"
      },
      "source": [
        "import numpy as np\n",
        "\n",
        "def diy_lu(a):\n",
        "    N = a.shape[0]\n",
        "    u = a.copy()\n",
        "    L = np.eye(N)\n",
        "    for j in range(N-1):\n",
        "        # Create lower triangular elementary matrix\n",
        "        lam = np.eye(N)\n",
        "        # Compute multipliers for current column\n",
        "        gamma = u[j+1:, j] / u[j, j]\n",
        "        # Fill in sub-diagonal elements for elimination\n",
        "        lam[j+1:, j] = -gamma\n",
        "        # Apply elimination: premultiply U by lam\n",
        "        u = lam @ u\n",
        "        # For L, add the positive multipliers\n",
        "        lam[j+1:, j] = gamma\n",
        "        # Accumulate L\n",
        "        L = L @ lam\n",
        "    return L, u\n",
        "\n",
        "# Example usage:\n",
        "if __name__ == \"__main__\":\n",
        "    A = np.array([[2., 1., 1.],\n",
        "                  [4., -6., 0.],\n",
        "                  [-2., 7., 2.]])\n",
        "    L, U = diy_lu(A)\n",
        "    print(\"L:\\n\", L)\n",
        "    print(\"U:\\n\", U)\n",
        "    print(\"L @ U:\\n\", L @ U)"
      ],
      "execution_count": 1,
      "outputs": [
        {
          "output_type": "stream",
          "name": "stdout",
          "text": [
            "L:\n",
            " [[ 1.  0.  0.]\n",
            " [ 2.  1.  0.]\n",
            " [-1. -1.  1.]]\n",
            "U:\n",
            " [[ 2.  1.  1.]\n",
            " [ 0. -8. -2.]\n",
            " [ 0.  0.  1.]]\n",
            "L @ U:\n",
            " [[ 2.  1.  1.]\n",
            " [ 4. -6.  0.]\n",
            " [-2.  7.  2.]]\n"
          ]
        }
      ]
    },
    {
      "cell_type": "code",
      "metadata": {
        "colab": {
          "base_uri": "https://localhost:8080/"
        },
        "id": "yW-cZc_qzd0Z",
        "outputId": "363a73db-8941-403a-f723-05e1cd873b5e"
      },
      "source": [
        "import numpy as np\n",
        "\n",
        "def diy_lu(a):\n",
        "    N = a.shape[0]\n",
        "    u = a.copy()\n",
        "    L = np.eye(N)\n",
        "    for j in range(N-1):\n",
        "        lam = np.eye(N)\n",
        "        gamma = u[j+1:, j] / u[j, j]\n",
        "        lam[j+1:, j] = -gamma\n",
        "        u = lam @ u\n",
        "        lam[j+1:, j] = gamma\n",
        "        L = L @ lam\n",
        "    return L, u\n",
        "\n",
        "\n",
        "N = 6\n",
        "A = np.zeros((N, N), dtype=float)\n",
        "for i in range(N):\n",
        "    for j in range(N):\n",
        "        A[i, j] = 3. / (0.6*i*j + 1)\n",
        "\n",
        "# Check the rank\n",
        "print(\"Rank of A:\", np.linalg.matrix_rank(A))\n",
        "\n",
        "# Test LU decomposition\n",
        "L, U = diy_lu(A)\n",
        "\n",
        "# Check if L @ U == A\n",
        "print(\"Is L @ U close to A?\", np.allclose(L @ U, A))\n",
        "\n",
        "\n",
        "print(\"L:\\n\", L)\n",
        "print(\"U:\\n\", U)"
      ],
      "execution_count": 2,
      "outputs": [
        {
          "output_type": "stream",
          "name": "stdout",
          "text": [
            "Rank of A: 6\n",
            "Is L @ U close to A? True\n",
            "L:\n",
            " [[1.         0.         0.         0.         0.         0.        ]\n",
            " [1.         1.         0.         0.         0.         0.        ]\n",
            " [1.         1.45454545 1.         0.         0.         0.        ]\n",
            " [1.         1.71428571 1.74223602 1.         0.         0.        ]\n",
            " [1.         1.88235294 2.27586207 2.03908376 1.         0.        ]\n",
            " [1.         2.         2.67142857 2.944      2.35448132 1.        ]]\n",
            "U:\n",
            " [[ 3.00000000e+00  3.00000000e+00  3.00000000e+00  3.00000000e+00\n",
            "   3.00000000e+00  3.00000000e+00]\n",
            " [ 0.00000000e+00 -1.12500000e+00 -1.63636364e+00 -1.92857143e+00\n",
            "  -2.11764706e+00 -2.25000000e+00]\n",
            " [ 0.00000000e+00  0.00000000e+00  2.62518230e-01  4.57368718e-01\n",
            "   5.97455283e-01  7.01298701e-01]\n",
            " [ 0.00000000e+00  2.22044605e-16  0.00000000e+00 -2.19718086e-02\n",
            "  -4.48023580e-02 -6.46850044e-02]\n",
            " [ 0.00000000e+00 -4.52767547e-16  0.00000000e+00  6.93889390e-18\n",
            "   8.07981372e-04  1.90237705e-03]\n",
            " [ 0.00000000e+00  4.12333415e-16  0.00000000e+00 -1.63374961e-17\n",
            "   0.00000000e+00 -1.58459123e-05]]\n"
          ]
        }
      ]
    },
    {
      "cell_type": "code",
      "metadata": {
        "colab": {
          "base_uri": "https://localhost:8080/"
        },
        "id": "MJs7LATHzhZq",
        "outputId": "779bf273-64b3-414e-884d-4848e0bb6b7c"
      },
      "source": [
        "np.round(A,3)"
      ],
      "execution_count": 3,
      "outputs": [
        {
          "output_type": "execute_result",
          "data": {
            "text/plain": [
              "array([[3.   , 3.   , 3.   , 3.   , 3.   , 3.   ],\n",
              "       [3.   , 1.875, 1.364, 1.071, 0.882, 0.75 ],\n",
              "       [3.   , 1.364, 0.882, 0.652, 0.517, 0.429],\n",
              "       [3.   , 1.071, 0.652, 0.469, 0.366, 0.3  ],\n",
              "       [3.   , 0.882, 0.517, 0.366, 0.283, 0.231],\n",
              "       [3.   , 0.75 , 0.429, 0.3  , 0.231, 0.188]])"
            ]
          },
          "metadata": {},
          "execution_count": 3
        }
      ]
    },
    {
      "cell_type": "code",
      "metadata": {
        "colab": {
          "base_uri": "https://localhost:8080/"
        },
        "id": "Y21gOqQ8zsqp",
        "outputId": "1753e7ab-98c8-447d-b197-aa1e4aa80c54"
      },
      "source": [
        "L, U = diy_lu(A)\n",
        "\n",
        "print(np.round(L,3), \"\\n\")\n",
        "print(np.round(U,3), \"\\n\")\n",
        "\n",
        "# Quick sanity check: L times U must equal the original matrix, up to floating-point errors.\n",
        "print(np.round(L@U - A,3))"
      ],
      "execution_count": 4,
      "outputs": [
        {
          "output_type": "stream",
          "name": "stdout",
          "text": [
            "[[1.    0.    0.    0.    0.    0.   ]\n",
            " [1.    1.    0.    0.    0.    0.   ]\n",
            " [1.    1.455 1.    0.    0.    0.   ]\n",
            " [1.    1.714 1.742 1.    0.    0.   ]\n",
            " [1.    1.882 2.276 2.039 1.    0.   ]\n",
            " [1.    2.    2.671 2.944 2.354 1.   ]] \n",
            "\n",
            "[[ 3.000e+00  3.000e+00  3.000e+00  3.000e+00  3.000e+00  3.000e+00]\n",
            " [ 0.000e+00 -1.125e+00 -1.636e+00 -1.929e+00 -2.118e+00 -2.250e+00]\n",
            " [ 0.000e+00  0.000e+00  2.630e-01  4.570e-01  5.970e-01  7.010e-01]\n",
            " [ 0.000e+00  0.000e+00  0.000e+00 -2.200e-02 -4.500e-02 -6.500e-02]\n",
            " [ 0.000e+00 -0.000e+00  0.000e+00  0.000e+00  1.000e-03  2.000e-03]\n",
            " [ 0.000e+00  0.000e+00  0.000e+00 -0.000e+00  0.000e+00 -0.000e+00]] \n",
            "\n",
            "[[ 0.  0.  0.  0.  0.  0.]\n",
            " [ 0.  0.  0.  0.  0.  0.]\n",
            " [ 0.  0. -0.  0.  0. -0.]\n",
            " [ 0.  0.  0. -0. -0.  0.]\n",
            " [ 0.  0.  0. -0. -0.  0.]\n",
            " [ 0.  0. -0. -0.  0.  0.]]\n"
          ]
        }
      ]
    },
    {
      "cell_type": "markdown",
      "metadata": {
        "id": "oSvHYsWuza06"
      },
      "source": [
        "# II. The need for pivoting"
      ]
    },
    {
      "cell_type": "markdown",
      "metadata": {
        "id": "B6z9Gausz4lS"
      },
      "source": [
        "Let's tweak the matrix a little bit, we only change a single element:"
      ]
    },
    {
      "cell_type": "code",
      "metadata": {
        "id": "tkGx4QSTzxOo"
      },
      "source": [
        "A1 = A.copy()\n",
        "A1[1, 1] = 3"
      ],
      "execution_count": 5,
      "outputs": []
    },
    {
      "cell_type": "code",
      "source": [
        "np.round(A1,3)"
      ],
      "metadata": {
        "colab": {
          "base_uri": "https://localhost:8080/"
        },
        "id": "TRC3nCQCkISv",
        "outputId": "cc6f9fc5-a902-45af-e24b-e2e7a494ae4b"
      },
      "execution_count": 6,
      "outputs": [
        {
          "output_type": "execute_result",
          "data": {
            "text/plain": [
              "array([[3.   , 3.   , 3.   , 3.   , 3.   , 3.   ],\n",
              "       [3.   , 3.   , 1.364, 1.071, 0.882, 0.75 ],\n",
              "       [3.   , 1.364, 0.882, 0.652, 0.517, 0.429],\n",
              "       [3.   , 1.071, 0.652, 0.469, 0.366, 0.3  ],\n",
              "       [3.   , 0.882, 0.517, 0.366, 0.283, 0.231],\n",
              "       [3.   , 0.75 , 0.429, 0.3  , 0.231, 0.188]])"
            ]
          },
          "metadata": {},
          "execution_count": 6
        }
      ]
    },
    {
      "cell_type": "code",
      "metadata": {
        "colab": {
          "base_uri": "https://localhost:8080/"
        },
        "id": "dotDoRQ0jT71",
        "outputId": "ff2fed33-2f40-47a3-a079-bdef667a6035"
      },
      "source": [
        "np.linalg.matrix_rank(A1)"
      ],
      "execution_count": 7,
      "outputs": [
        {
          "output_type": "execute_result",
          "data": {
            "text/plain": [
              "np.int64(6)"
            ]
          },
          "metadata": {},
          "execution_count": 7
        }
      ]
    },
    {
      "cell_type": "code",
      "metadata": {
        "colab": {
          "base_uri": "https://localhost:8080/"
        },
        "id": "NfvRXF3l0Czz",
        "outputId": "5427010c-17d6-4d9e-f9b6-e77a89564c4d"
      },
      "source": [
        "L, U= diy_lu(A1)\n",
        "\n",
        "print(L, U)"
      ],
      "execution_count": 8,
      "outputs": [
        {
          "output_type": "stream",
          "name": "stdout",
          "text": [
            "[[nan nan nan nan nan nan]\n",
            " [nan nan nan nan nan nan]\n",
            " [nan nan nan nan nan nan]\n",
            " [nan nan nan nan nan nan]\n",
            " [nan nan nan nan nan nan]\n",
            " [nan nan nan nan nan nan]] [[nan nan nan nan nan nan]\n",
            " [nan nan nan nan nan nan]\n",
            " [nan nan nan nan nan nan]\n",
            " [nan nan nan nan nan nan]\n",
            " [nan nan nan nan nan nan]\n",
            " [nan nan nan nan nan nan]]\n"
          ]
        },
        {
          "output_type": "stream",
          "name": "stderr",
          "text": [
            "/tmp/ipython-input-2-1848805866.py:15: RuntimeWarning: divide by zero encountered in divide\n",
            "  gamma = u[j+1:, j] / u[j, j]\n",
            "/tmp/ipython-input-2-1848805866.py:17: RuntimeWarning: invalid value encountered in matmul\n",
            "  u = lam @ u\n",
            "/tmp/ipython-input-2-1848805866.py:19: RuntimeWarning: invalid value encountered in matmul\n",
            "  L = L @ lam\n",
            "/tmp/ipython-input-2-1848805866.py:15: RuntimeWarning: invalid value encountered in divide\n",
            "  gamma = u[j+1:, j] / u[j, j]\n"
          ]
        }
      ]
    },
    {
      "cell_type": "markdown",
      "source": [
        "The LU decomposition from scipy.linalg.lu already implements pivoting other sophisticated controls\n",
        "\n",
        "https://docs.scipy.org/doc/scipy/reference/generated/scipy.linalg.lu.html\n",
        "\n",
        "$$A = P L U$$\n",
        "\n",
        "```python\n",
        "\n",
        " P ,  L,  U  = scipy.linalg.lu(a, permute_l=False, overwrite_a=False, check_finite=True)\n",
        "\n",
        "# Returns\n",
        "# (If permute_l == False)\n",
        "# P : Permutation matrix\n",
        "# L : Lower triangular or trapezoidal matrix with unit diagonal. K = min\n",
        "# U : Upper triangular or trapezoidal matrix\n",
        "```"
      ],
      "metadata": {
        "id": "1wOBYHGcyIRG"
      }
    },
    {
      "cell_type": "code",
      "source": [
        "from scipy import linalg\n",
        "P ,  L,  U = linalg.lu(A)\n",
        "\n",
        "print(\"P\\n\",P, \"\\n\")\n",
        "print(\"L\\n\",L, \"\\n\")\n",
        "print(\"U\\n\",np.round(U,3), \"\\n\")\n",
        "print(\"A= P@L@U\\n\", P@L@U, \"\\n\")\n",
        "print(\"A\\n\",A, \"\\n\")\n"
      ],
      "metadata": {
        "colab": {
          "base_uri": "https://localhost:8080/"
        },
        "id": "npXQN18nyHS_",
        "outputId": "275dfb41-a6dd-47a4-e2bd-13b2e7781000"
      },
      "execution_count": 9,
      "outputs": [
        {
          "output_type": "stream",
          "name": "stdout",
          "text": [
            "P\n",
            " [[1. 0. 0. 0. 0. 0.]\n",
            " [0. 0. 1. 0. 0. 0.]\n",
            " [0. 0. 0. 1. 0. 0.]\n",
            " [0. 0. 0. 0. 1. 0.]\n",
            " [0. 0. 0. 0. 0. 1.]\n",
            " [0. 1. 0. 0. 0. 0.]] \n",
            "\n",
            "L\n",
            " [[1.         0.         0.         0.         0.         0.        ]\n",
            " [1.         1.         0.         0.         0.         0.        ]\n",
            " [1.         0.5        1.         0.         0.         0.        ]\n",
            " [1.         0.72727273 0.70588235 1.         0.         0.        ]\n",
            " [1.         0.85714286 0.40993789 0.83482143 1.         0.        ]\n",
            " [1.         0.94117647 0.17849899 0.4255677  0.78870221 1.        ]] \n",
            "\n",
            "U\n",
            " [[ 3.000e+00  3.000e+00  3.000e+00  3.000e+00  3.000e+00  3.000e+00]\n",
            " [ 0.000e+00 -2.250e+00 -2.571e+00 -2.700e+00 -2.769e+00 -2.812e+00]\n",
            " [ 0.000e+00  0.000e+00 -3.510e-01 -5.790e-01 -7.330e-01 -8.440e-01]\n",
            " [ 0.000e+00  0.000e+00  0.000e+00  2.400e-02  4.900e-02  7.000e-02]\n",
            " [ 0.000e+00  0.000e+00  0.000e+00  0.000e+00 -1.000e-03 -2.000e-03]\n",
            " [ 0.000e+00  0.000e+00  0.000e+00  0.000e+00  0.000e+00  0.000e+00]] \n",
            "\n",
            "A= P@L@U\n",
            " [[3.         3.         3.         3.         3.         3.        ]\n",
            " [3.         1.875      1.36363636 1.07142857 0.88235294 0.75      ]\n",
            " [3.         1.36363636 0.88235294 0.65217391 0.51724138 0.42857143]\n",
            " [3.         1.07142857 0.65217391 0.46875    0.36585366 0.3       ]\n",
            " [3.         0.88235294 0.51724138 0.36585366 0.28301887 0.23076923]\n",
            " [3.         0.75       0.42857143 0.3        0.23076923 0.1875    ]] \n",
            "\n",
            "A\n",
            " [[3.         3.         3.         3.         3.         3.        ]\n",
            " [3.         1.875      1.36363636 1.07142857 0.88235294 0.75      ]\n",
            " [3.         1.36363636 0.88235294 0.65217391 0.51724138 0.42857143]\n",
            " [3.         1.07142857 0.65217391 0.46875    0.36585366 0.3       ]\n",
            " [3.         0.88235294 0.51724138 0.36585366 0.28301887 0.23076923]\n",
            " [3.         0.75       0.42857143 0.3        0.23076923 0.1875    ]] \n",
            "\n"
          ]
        }
      ]
    },
    {
      "cell_type": "code",
      "source": [
        "P ,  L,  U = linalg.lu(A1)\n",
        "\n",
        "print(\"P\\n\",P, \"\\n\")\n",
        "print(\"L\\n\",L, \"\\n\")\n",
        "print(\"U\\n\",np.round(U,3), \"\\n\")\n",
        "print(\"A= P@L@U\\n\", P@L@U, \"\\n\")\n",
        "print(\"A\\n\",A, \"\\n\")\n"
      ],
      "metadata": {
        "colab": {
          "base_uri": "https://localhost:8080/"
        },
        "id": "U31oKbCWzKXe",
        "outputId": "3ac0882d-03c2-4625-db36-8f0e9b50b0c1"
      },
      "execution_count": 10,
      "outputs": [
        {
          "output_type": "stream",
          "name": "stdout",
          "text": [
            "P\n",
            " [[1. 0. 0. 0. 0. 0.]\n",
            " [0. 0. 1. 0. 0. 0.]\n",
            " [0. 0. 0. 1. 0. 0.]\n",
            " [0. 0. 0. 0. 1. 0.]\n",
            " [0. 0. 0. 0. 0. 1.]\n",
            " [0. 1. 0. 0. 0. 0.]] \n",
            "\n",
            "L\n",
            " [[ 1.          0.          0.          0.          0.          0.        ]\n",
            " [ 1.          1.          0.          0.          0.          0.        ]\n",
            " [ 1.         -0.          1.          0.          0.          0.        ]\n",
            " [ 1.          0.72727273  0.1512605   1.          0.          0.        ]\n",
            " [ 1.          0.85714286  0.08784383  0.51421669  1.          0.        ]\n",
            " [ 1.          0.94117647  0.03824978  0.2076544   0.64143198  1.        ]] \n",
            "\n",
            "U\n",
            " [[ 3.000e+00  3.000e+00  3.000e+00  3.000e+00  3.000e+00  3.000e+00]\n",
            " [ 0.000e+00 -2.250e+00 -2.571e+00 -2.700e+00 -2.769e+00 -2.812e+00]\n",
            " [ 0.000e+00  0.000e+00 -1.636e+00 -1.929e+00 -2.118e+00 -2.250e+00]\n",
            " [ 0.000e+00  0.000e+00  0.000e+00 -9.200e-02 -1.480e-01 -1.860e-01]\n",
            " [ 0.000e+00  0.000e+00  0.000e+00  0.000e+00  2.000e-03  4.000e-03]\n",
            " [ 0.000e+00  0.000e+00  0.000e+00  0.000e+00  0.000e+00 -0.000e+00]] \n",
            "\n",
            "A= P@L@U\n",
            " [[3.         3.         3.         3.         3.         3.        ]\n",
            " [3.         3.         1.36363636 1.07142857 0.88235294 0.75      ]\n",
            " [3.         1.36363636 0.88235294 0.65217391 0.51724138 0.42857143]\n",
            " [3.         1.07142857 0.65217391 0.46875    0.36585366 0.3       ]\n",
            " [3.         0.88235294 0.51724138 0.36585366 0.28301887 0.23076923]\n",
            " [3.         0.75       0.42857143 0.3        0.23076923 0.1875    ]] \n",
            "\n",
            "A\n",
            " [[3.         3.         3.         3.         3.         3.        ]\n",
            " [3.         1.875      1.36363636 1.07142857 0.88235294 0.75      ]\n",
            " [3.         1.36363636 0.88235294 0.65217391 0.51724138 0.42857143]\n",
            " [3.         1.07142857 0.65217391 0.46875    0.36585366 0.3       ]\n",
            " [3.         0.88235294 0.51724138 0.36585366 0.28301887 0.23076923]\n",
            " [3.         0.75       0.42857143 0.3        0.23076923 0.1875    ]] \n",
            "\n"
          ]
        }
      ]
    },
    {
      "cell_type": "markdown",
      "metadata": {
        "id": "OqWxeK450I58"
      },
      "source": [
        "### Test II.1\n",
        "\n",
        "For a naive LU decomposition to work, all leading minors of a matrix should be non-zero. Check if this requirement is satisfied for the two matrices `a` and `a1`.\n",
        "\n",
        "(20% of the grade)"
      ]
    },
    {
      "cell_type": "code",
      "metadata": {
        "colab": {
          "base_uri": "https://localhost:8080/"
        },
        "id": "qCf9-MUqN927",
        "outputId": "d5406df4-aa94-41d5-f1b1-109fe6f44589"
      },
      "source": [
        "import numpy as np\n",
        "\n",
        "def leading_minors_test(A):\n",
        "    N = A.shape[0]\n",
        "    for k in range(1, N+1):\n",
        "        minor = A[:k, :k]\n",
        "        if np.linalg.det(minor) == 0:\n",
        "            return False\n",
        "    return True\n",
        "\n",
        "print(leading_minors_test(A), leading_minors_test(A1))"
      ],
      "execution_count": 11,
      "outputs": [
        {
          "output_type": "stream",
          "name": "stdout",
          "text": [
            "True False\n"
          ]
        }
      ]
    },
    {
      "cell_type": "markdown",
      "metadata": {
        "id": "Qs8AJkWd0XXQ"
      },
      "source": [
        "### Test II.2\n",
        "\n",
        "Modify the `diy_lu` routine to implement column pivoting. Keep track of pivots, you can either construct a permutation matrix, or a swap array (your choice).\n",
        "\n",
        "(40% of the grade)\n",
        "\n",
        "Implement a function to reconstruct the original matrix from a decompositon. Test your routines on the matrices `a` and `a1`.\n",
        "\n",
        "(40% of the grade)"
      ]
    },
    {
      "cell_type": "code",
      "source": [
        "import numpy as np\n",
        "\n",
        "def diy_lu_pivot(a):\n",
        "    N = a.shape[0]\n",
        "    u = a.copy()\n",
        "    L = np.eye(N)\n",
        "    swap_array = np.arange(N)\n",
        "\n",
        "    for j in range(N-1):\n",
        "        # Find column with largest absolute value in u[j, j:]\n",
        "        col_max = np.argmax(np.abs(u[j, j:])) + j\n",
        "        if col_max != j:\n",
        "            u[:, [j, col_max]] = u[:, [col_max, j]]\n",
        "            swap_array[[j, col_max]] = swap_array[[col_max, j]]\n",
        "            if j > 0:\n",
        "                L[:j, [j, col_max]] = L[:j, [col_max, j]]\n",
        "\n",
        "        lam = np.eye(N)\n",
        "        gamma = u[j+1:, j] / u[j, j]\n",
        "        lam[j+1:, j] = -gamma\n",
        "        u = lam @ u\n",
        "        lam[j+1:, j] = gamma\n",
        "        L = L @ lam\n",
        "\n",
        "    return L, u, swap_array\n",
        "\n",
        "\n",
        "if __name__ == \"__main__\":\n",
        "    N = 6\n",
        "    A = np.zeros((N, N), dtype=float)\n",
        "    for i in range(N):\n",
        "        for j in range(N):\n",
        "            A[i, j] = 3. / (0.6*i*j + 1)\n",
        "\n",
        "    L, U, swap_array = diy_lu_pivot(A)\n",
        "    print(\"L:\\n\", L)\n",
        "    print(\"U:\\n\", U)\n",
        "    print(\"swap_array:\", swap_array)\n",
        "\n",
        "    print(\"L @ U:\\n\", L @ U)\n",
        "    print(\"A[:, swap_array]:\\n\", A[:, swap_array])\n",
        "    print(\"Is L @ U close to permuted A?\", np.allclose(L @ U, A[:, swap_array]))"
      ],
      "metadata": {
        "colab": {
          "base_uri": "https://localhost:8080/"
        },
        "id": "9OdqYyVfAZFd",
        "outputId": "6ad37051-7319-42cb-9349-b7c8a3c52ee3"
      },
      "execution_count": 12,
      "outputs": [
        {
          "output_type": "stream",
          "name": "stdout",
          "text": [
            "L:\n",
            " [[1.         0.         0.         0.         0.         0.        ]\n",
            " [1.         1.         0.         0.         0.         0.        ]\n",
            " [1.         1.14285714 1.         0.         0.         0.        ]\n",
            " [1.         1.2        1.65       1.         0.         0.        ]\n",
            " [1.         1.23076923 2.09049774 2.0096739  1.         0.        ]\n",
            " [1.         1.25       2.40625    2.875      2.34615179 1.        ]]\n",
            "U:\n",
            " [[ 3.00000000e+00  3.00000000e+00  3.00000000e+00  3.00000000e+00\n",
            "   3.00000000e+00  3.00000000e+00]\n",
            " [ 0.00000000e+00 -2.25000000e+00 -1.12500000e+00 -1.63636364e+00\n",
            "  -1.92857143e+00 -2.11764706e+00]\n",
            " [ 0.00000000e+00  0.00000000e+00 -3.50649351e-01 -2.47517189e-01\n",
            "  -1.43744454e-01 -6.25905535e-02]\n",
            " [ 0.00000000e+00  0.00000000e+00  0.00000000e+00  2.42136380e-02\n",
            "   2.02140639e-02  1.03045423e-02]\n",
            " [ 0.00000000e+00  0.00000000e+00  0.00000000e+00 -6.93889390e-18\n",
            "  -6.46187856e-04 -5.09649789e-04]\n",
            " [ 0.00000000e+00  0.00000000e+00  0.00000000e+00  1.62796983e-17\n",
            "   2.16840434e-19  6.73010748e-06]]\n",
            "swap_array: [0 5 1 2 3 4]\n",
            "L @ U:\n",
            " [[3.         3.         3.         3.         3.         3.        ]\n",
            " [3.         0.75       1.875      1.36363636 1.07142857 0.88235294]\n",
            " [3.         0.42857143 1.36363636 0.88235294 0.65217391 0.51724138]\n",
            " [3.         0.3        1.07142857 0.65217391 0.46875    0.36585366]\n",
            " [3.         0.23076923 0.88235294 0.51724138 0.36585366 0.28301887]\n",
            " [3.         0.1875     0.75       0.42857143 0.3        0.23076923]]\n",
            "A[:, swap_array]:\n",
            " [[3.         3.         3.         3.         3.         3.        ]\n",
            " [3.         0.75       1.875      1.36363636 1.07142857 0.88235294]\n",
            " [3.         0.42857143 1.36363636 0.88235294 0.65217391 0.51724138]\n",
            " [3.         0.3        1.07142857 0.65217391 0.46875    0.36585366]\n",
            " [3.         0.23076923 0.88235294 0.51724138 0.36585366 0.28301887]\n",
            " [3.         0.1875     0.75       0.42857143 0.3        0.23076923]]\n",
            "Is L @ U close to permuted A? True\n"
          ]
        }
      ]
    },
    {
      "cell_type": "code",
      "source": [
        "import numpy as np\n",
        "\n",
        "def diy_lu(a):\n",
        "    N = a.shape[0]\n",
        "    u = a.copy()\n",
        "    L = np.eye(N)\n",
        "    for j in range(N-1):\n",
        "        lam = np.eye(N)\n",
        "        gamma = u[j+1:, j] / u[j, j]\n",
        "        lam[j+1:, j] = -gamma\n",
        "        u = lam @ u\n",
        "        lam[j+1:, j] = gamma\n",
        "        L = L @ lam\n",
        "    return L, u\n",
        "\n",
        "def diy_lu_column_pivot_reconstruct(A):\n",
        "    N = A.shape[0]\n",
        "    U = A.copy()\n",
        "    L = np.eye(N)\n",
        "    P_total = np.eye(N)\n",
        "\n",
        "    for j in range(N-1):\n",
        "        col_max = np.argmax(np.abs(U[j, j:])) + j\n",
        "\n",
        "        # Construct permutation matrix for current step\n",
        "        Pj = np.eye(N)\n",
        "        if col_max != j:\n",
        "            Pj[:, [j, col_max]] = Pj[:, [col_max, j]]\n",
        "            U[:, [j, col_max]] = U[:, [col_max, j]]\n",
        "\n",
        "        # Elimination (lower triangular elementary matrix)\n",
        "        lam = np.eye(N)\n",
        "        gamma = U[j+1:, j] / U[j, j]\n",
        "        lam[j+1:, j] = -gamma\n",
        "        U = lam @ U\n",
        "\n",
        "        # For L: accumulate as Pt_j @ lam @ L\n",
        "        lam[j+1:, j] = gamma\n",
        "        L = Pj.T @ lam @ L\n",
        "\n",
        "        # Accumulate total permutation\n",
        "        P_total = Pj @ P_total\n",
        "\n",
        "    return P_total, L, U\n",
        "\n",
        "def reconstruct_from_lu(L, U, swap_array=None, P=None):\n",
        "\n",
        "    if swap_array is not None:\n",
        "        inverse_swap = np.argsort(swap_array)\n",
        "        return (L @ U)[:, inverse_swap]\n",
        "    elif P is not None:\n",
        "        return np.linalg.inv(P) @ (L @ U)\n",
        "    else:\n",
        "        return L @ U\n",
        "\n",
        "if __name__ == \"__main__\":\n",
        "    N = 6\n",
        "    a = np.zeros((N, N), dtype=float)\n",
        "    for i in range(N):\n",
        "        for j in range(N):\n",
        "            a[i, j] = 3. / (0.6*i*j + 1)\n",
        "    a1 = np.random.rand(N, N)\n",
        "\n",
        "    # LU decomposition without pivoting\n",
        "    L, U = diy_lu(a)\n",
        "    A_rec = reconstruct_from_lu(L, U)\n",
        "    print(\"Reconstruction error (a, naive):\", np.linalg.norm(a - A_rec))\n",
        "\n",
        "    L1, U1 = diy_lu(a1)\n",
        "    A1_rec = reconstruct_from_lu(L1, U1)\n",
        "    print(\"Reconstruction error (a1, naive):\", np.linalg.norm(a1 - A1_rec))\n",
        "\n",
        "    # LU decomposition with column pivoting using permutation matrix\n",
        "    P, Lp, Up = diy_lu_column_pivot_reconstruct(a)\n",
        "    Ap_rec = reconstruct_from_lu(Lp, Up, P=P)\n",
        "    print(\"Column pivot reconstruction error (a):\", np.linalg.norm(a - Ap_rec))\n",
        "\n",
        "    P1, Lp1, Up1 = diy_lu_column_pivot_reconstruct(a1)\n",
        "    Ap1_rec = reconstruct_from_lu(Lp1, Up1, P=P1)\n",
        "    print(\"Column pivot reconstruction error (a1):\", np.linalg.norm(a1 - Ap1_rec))"
      ],
      "metadata": {
        "colab": {
          "base_uri": "https://localhost:8080/"
        },
        "id": "diFTqb77AZDl",
        "outputId": "e02f2a0a-9b07-4042-96fd-cd72f77547ae"
      },
      "execution_count": 13,
      "outputs": [
        {
          "output_type": "stream",
          "name": "stdout",
          "text": [
            "Reconstruction error (a, naive): 5.978733960281817e-16\n",
            "Reconstruction error (a1, naive): 8.951979947807797e-16\n",
            "Column pivot reconstruction error (a): 292.4585684912843\n",
            "Column pivot reconstruction error (a1): 10.022081484699099\n"
          ]
        }
      ]
    },
    {
      "cell_type": "markdown",
      "metadata": {
        "id": "tUb6w3y60eyP"
      },
      "source": [
        "# 2. $LU$ factorization column pivoting and reconstruction\n",
        "When we premultply $A$ by elementary permutation matricex$P_j$( to find a good pivot) and then premultply by lower triangular elemetary matrices $\\Lambda_j$, $A$  it is transformed in an  upper triangular matrix $U$\n",
        "\n",
        "$$  \n",
        "(\\Lambda_{n-1} P_{n-1} \\ldots \\Lambda_2 P_2 \\Lambda_1 P_1)A  = U\n",
        "$$\n",
        "and\n",
        "$$  \n",
        "A  = (\\Lambda_{n-1} P_{n-1} \\ldots \\Lambda_2 P_2 \\Lambda_1 P_1)^{-1} U\n",
        "$$\n",
        "\n",
        "\n",
        "So the $LU$ column pivot factorization of $A$ is\n",
        "$$\n",
        "A = LU\n",
        "$$\n",
        "ith\n",
        "$$  \n",
        "U = (\\Lambda_{n-1} P_{n-1} \\ldots \\Lambda_2 P_2 \\Lambda_1 P_1) A\n",
        "$$\n",
        "$$\n",
        "\\begin{array}{ll}L  &=  (\\Lambda_{n-1} P_{n-1} \\ldots \\Lambda_2 P_2 \\Lambda_1 P_1)^{-1}\\\\\n",
        "&= P_1^{-1} \\Lambda_1^{-1} P_2^{-1} \\Lambda_2^{-1} \\ldots  P_{n-1}^{-1}\\\\\n",
        " &= P_1^{t} (-\\Lambda_1) P_2^{t} (-\\Lambda_2) \\ldots  P_{n-1}^{t} (-\\Lambda_{n-1})\n",
        "\\end{array}\n",
        "$$\n",
        "because the inverse a of a Lower Triangular Elemetary Matrix is minus the matrix $\\Lambda_i^{-1} = - \\Lambda_i$ and the inverse of a Permutation Matrix (in particular an elementary permutation matrix)  is its transpose [math.stackexchange](\n",
        "        https://math.stackexchange.com/questions/98549/the-transpose-of-a-permutation-matrix-is-its-inverse#:~:text=Taking%20the%20transpose%20of%20P,Pt%3DP%E2%88%921.)  $P_i^{-1}=P_i^{t}$.\n",
        "\n",
        "Note that\n",
        "$$\n",
        "L= P_1^{t} (-\\Lambda_1) P_2^{t} (-\\Lambda_2) \\ldots  P_{n-1}^{t} (-\\Lambda_{n-1})\n",
        "$$\n",
        "is not exactly a lower tiangular matrix but a row permutated lower tiangular matrix.\n",
        "\n",
        "\n",
        "\n"
      ]
    },
    {
      "cell_type": "markdown",
      "source": [
        "$$PA = LU$$"
      ],
      "metadata": {
        "id": "nV8IGs1Zrzu6"
      }
    },
    {
      "cell_type": "code",
      "metadata": {
        "id": "pCoZ5W-dOLPk",
        "colab": {
          "base_uri": "https://localhost:8080/"
        },
        "outputId": "8e68e220-bd8c-4b5c-a9ed-a1c17d857de9"
      },
      "source": [
        "import numpy as np\n",
        "\n",
        "def diy_lu(a):\n",
        "    N = a.shape[0]\n",
        "    u = a.copy()\n",
        "    L = np.eye(N)\n",
        "    for j in range(N-1):\n",
        "        lam = np.eye(N)\n",
        "        gamma = u[j+1:, j] / u[j, j]\n",
        "        lam[j+1:, j] = -gamma\n",
        "        u = lam @ u\n",
        "        lam[j+1:, j] = gamma\n",
        "        L = L @ lam\n",
        "    return L, u\n",
        "\n",
        "def diy_lu_pivot(a):\n",
        "    N = a.shape[0]\n",
        "    u = a.copy()\n",
        "    L = np.eye(N)\n",
        "    swap_array = np.arange(N)\n",
        "    for j in range(N-1):\n",
        "        col_max = np.argmax(np.abs(u[j, j:])) + j\n",
        "        if col_max != j:\n",
        "            u[:, [j, col_max]] = u[:, [col_max, j]]\n",
        "            swap_array[[j, col_max]] = swap_array[[col_max, j]]\n",
        "            if j > 0:\n",
        "                L[:j, [j, col_max]] = L[:j, [col_max, j]]\n",
        "        lam = np.eye(N)\n",
        "        gamma = u[j+1:, j] / u[j, j]\n",
        "        lam[j+1:, j] = -gamma\n",
        "        u = lam @ u\n",
        "        lam[j+1:, j] = gamma\n",
        "        L = L @ lam\n",
        "    return L, u, swap_array\n",
        "\n",
        "def reconstruct_from_lu(L, U, swap_array=None):\n",
        "    A_reconstructed = L @ U\n",
        "    if swap_array is not None:\n",
        "        inverse_swap = np.argsort(swap_array)\n",
        "        A_reconstructed = A_reconstructed[:, inverse_swap]\n",
        "    return A_reconstructed\n",
        "\n",
        "if __name__ == \"__main__\":\n",
        "    N = 6\n",
        "    a = np.zeros((N, N), dtype=float)\n",
        "    for i in range(N):\n",
        "        for j in range(N):\n",
        "            a[i, j] = 3. / (0.6*i*j + 1)\n",
        "    a1 = np.random.rand(N, N)\n",
        "\n",
        "    # LU decomposition without pivoting\n",
        "    L, U = diy_lu(a)\n",
        "    A_rec = reconstruct_from_lu(L, U)\n",
        "    print(\"Reconstruction error (a):\", np.linalg.norm(a - A_rec))\n",
        "\n",
        "    L1, U1 = diy_lu(a1)\n",
        "    A1_rec = reconstruct_from_lu(L1, U1)\n",
        "    print(\"Reconstruction error (a1):\", np.linalg.norm(a1 - A1_rec))\n",
        "\n",
        "    # LU decomposition with column pivoting\n",
        "    Lp, Up, swap_array = diy_lu_pivot(a)\n",
        "    Ap_rec = reconstruct_from_lu(Lp, Up, swap_array)\n",
        "    print(\"Pivoted reconstruction error (a):\", np.linalg.norm(a - Ap_rec))\n",
        "\n",
        "    Lp1, Up1, swap_array1 = diy_lu_pivot(a1)\n",
        "    Ap1_rec = reconstruct_from_lu(Lp1, Up1, swap_array1)\n",
        "    print(\"Pivoted reconstruction error (a1):\", np.linalg.norm(a1 - Ap1_rec))"
      ],
      "execution_count": 14,
      "outputs": [
        {
          "output_type": "stream",
          "name": "stdout",
          "text": [
            "Reconstruction error (a): 5.978733960281817e-16\n",
            "Reconstruction error (a1): 1.4464889531490702e-15\n",
            "Pivoted reconstruction error (a): 9.408280408450705e-16\n",
            "Pivoted reconstruction error (a1): 3.002232803159773e-16\n"
          ]
        }
      ]
    },
    {
      "cell_type": "code",
      "metadata": {
        "colab": {
          "base_uri": "https://localhost:8080/"
        },
        "id": "fhVlk2aj1Ux5",
        "outputId": "d98f565c-1e71-4f7e-f17a-43f6c4b548a0"
      },
      "source": [
        "A = np.array([[4,3,1], [5,7,0], [9,9,3]])\n",
        "\n",
        "P, L, U, = diy_lu_column_pivot_reconstruct(A)\n",
        "\n",
        "print(\"P\\n\",P, \"\\n\")\n",
        "print(\"L\\n\",L, \"\\n\")\n",
        "print(\"U\\n\",U, \"\\n\")\n",
        "print(\"A= P@L@U\\n\", P@L@U, \"\\n\")\n",
        "print(\"A\\n\",A, \"\\n\")\n",
        "\n",
        "# Quick sanity check: L times U must equal the original matrix, up to floating-point errors.\n",
        "print(\"L@u - A\\n\",np.round(P@L@U-A,3), \"\\n\")"
      ],
      "execution_count": 15,
      "outputs": [
        {
          "output_type": "stream",
          "name": "stdout",
          "text": [
            "P\n",
            " [[1. 0. 0.]\n",
            " [0. 1. 0.]\n",
            " [0. 0. 1.]] \n",
            "\n",
            "L\n",
            " [[1.         0.         0.        ]\n",
            " [1.25       1.         0.        ]\n",
            " [3.11538462 0.69230769 1.        ]] \n",
            "\n",
            "U\n",
            " [[ 4.          3.          1.        ]\n",
            " [ 0.          3.25       -1.25      ]\n",
            " [ 0.          0.          1.61538462]] \n",
            "\n",
            "A= P@L@U\n",
            " [[ 4.          3.          1.        ]\n",
            " [ 5.          7.          0.        ]\n",
            " [12.46153846 11.59615385  3.86538462]] \n",
            "\n",
            "A\n",
            " [[4 3 1]\n",
            " [5 7 0]\n",
            " [9 9 3]] \n",
            "\n",
            "L@u - A\n",
            " [[0.    0.    0.   ]\n",
            " [0.    0.    0.   ]\n",
            " [3.462 2.596 0.865]] \n",
            "\n"
          ]
        }
      ]
    },
    {
      "cell_type": "code",
      "source": [
        "from scipy import linalg\n",
        "\n",
        "A = np.array([[4,3,1], [5,7,0], [9,9,3]])\n",
        "\n",
        "P,L,U = linalg.lu(A)\n",
        "\n",
        "print(\"P\\n\",P, \"\\n\")\n",
        "print(\"L\\n\",L, \"\\n\")\n",
        "print(\"U\\n\",U, \"\\n\")\n",
        "print(\"A= P@L@U\\n\", P@L@U, \"\\n\")\n",
        "print(\"A\\n\",A, \"\\n\")\n",
        "\n",
        "# Quick sanity check: L times U must equal the original matrix, up to floating-point errors.\n",
        "print(\"L@u - A\\n\",np.round(P@L@U-A,3), \"\\n\")"
      ],
      "metadata": {
        "colab": {
          "base_uri": "https://localhost:8080/"
        },
        "id": "KY0N7EG_xAaP",
        "outputId": "0b0bc9ad-7507-42fd-8c4d-f39b4cbc4ff2"
      },
      "execution_count": 16,
      "outputs": [
        {
          "output_type": "stream",
          "name": "stdout",
          "text": [
            "P\n",
            " [[0. 0. 1.]\n",
            " [0. 1. 0.]\n",
            " [1. 0. 0.]] \n",
            "\n",
            "L\n",
            " [[ 1.          0.          0.        ]\n",
            " [ 0.55555556  1.          0.        ]\n",
            " [ 0.44444444 -0.5         1.        ]] \n",
            "\n",
            "U\n",
            " [[ 9.          9.          3.        ]\n",
            " [ 0.          2.         -1.66666667]\n",
            " [ 0.          0.         -1.16666667]] \n",
            "\n",
            "A= P@L@U\n",
            " [[4. 3. 1.]\n",
            " [5. 7. 0.]\n",
            " [9. 9. 3.]] \n",
            "\n",
            "A\n",
            " [[4 3 1]\n",
            " [5 7 0]\n",
            " [9 9 3]] \n",
            "\n",
            "L@u - A\n",
            " [[0. 0. 0.]\n",
            " [0. 0. 0.]\n",
            " [0. 0. 0.]] \n",
            "\n"
          ]
        }
      ]
    },
    {
      "cell_type": "code",
      "metadata": {
        "colab": {
          "base_uri": "https://localhost:8080/"
        },
        "id": "XIpfRzl21IDH",
        "outputId": "f484122c-e5c9-4e8a-b9e1-f2174fa6657a"
      },
      "source": [
        "N = 6\n",
        "A = np.zeros((N, N), dtype=float)\n",
        "for i in range(N):\n",
        "    for j in range(N):\n",
        "        A[i, j] = 3. / (0.6*i*j + 1)\n",
        "\n",
        "P, L, U, = diy_lu_column_pivot_reconstruct(A)\n",
        "\n",
        "print(\"P\\n\",P, \"\\n\")\n",
        "print(\"L\\n\",L, \"\\n\")\n",
        "print(\"U\\n\",U, \"\\n\")\n",
        "print(\"A= P@L@U\\n\", P@L@U, \"\\n\")\n",
        "print(\"A\\n\",A, \"\\n\")\n",
        "\n",
        "# Quick sanity check: L times U must equal the original matrix, up to floating-point errors.\n",
        "print(\"L@u - A\\n\",np.round(P@L@U-A,3), \"\\n\")\n",
        "\n",
        "\n"
      ],
      "execution_count": 17,
      "outputs": [
        {
          "output_type": "stream",
          "name": "stdout",
          "text": [
            "P\n",
            " [[1. 0. 0. 0. 0. 0.]\n",
            " [0. 0. 0. 0. 0. 1.]\n",
            " [0. 1. 0. 0. 0. 0.]\n",
            " [0. 0. 1. 0. 0. 0.]\n",
            " [0. 0. 0. 1. 0. 0.]\n",
            " [0. 0. 0. 0. 1. 0.]] \n",
            "\n",
            "L\n",
            " [[ 1.          0.          0.          0.          0.          0.        ]\n",
            " [ 2.25        1.25        0.          0.          0.          1.        ]\n",
            " [ 6.15625     3.75        2.40625     0.          0.          0.        ]\n",
            " [18.63303571 10.01428571  5.74375     2.875       0.          0.        ]\n",
            " [48.52324107 26.12771429 14.334375    5.715       2.34615179  0.        ]\n",
            " [18.23732252  9.82118895  5.40645967  2.0096739   1.          0.        ]] \n",
            "\n",
            "U\n",
            " [[ 3.00000000e+00  3.00000000e+00  3.00000000e+00  3.00000000e+00\n",
            "   3.00000000e+00  3.00000000e+00]\n",
            " [ 0.00000000e+00 -2.25000000e+00 -1.12500000e+00 -1.63636364e+00\n",
            "  -1.92857143e+00 -2.11764706e+00]\n",
            " [ 0.00000000e+00  0.00000000e+00 -3.50649351e-01 -2.47517189e-01\n",
            "  -1.43744454e-01 -6.25905535e-02]\n",
            " [ 0.00000000e+00  0.00000000e+00  0.00000000e+00  2.42136380e-02\n",
            "   2.02140639e-02  1.03045423e-02]\n",
            " [ 0.00000000e+00  0.00000000e+00  0.00000000e+00 -6.93889390e-18\n",
            "  -6.46187856e-04 -5.09649789e-04]\n",
            " [ 0.00000000e+00  0.00000000e+00  0.00000000e+00  1.62796983e-17\n",
            "   2.16840434e-19  6.73010748e-06]] \n",
            "\n",
            "A= P@L@U\n",
            " [[  3.           3.           3.           3.           3.\n",
            "    3.        ]\n",
            " [ 54.71196755  32.6142924   41.7673584   37.3514009   35.03393203\n",
            "   33.59596146]\n",
            " [  6.75         3.9375       5.34375      4.70454545   4.33928571\n",
            "    4.10294791]\n",
            " [ 18.46875     10.03125     13.40625     11.73679813  10.89072205\n",
            "   10.37696501]\n",
            " [ 55.89910714  33.36696429  42.61899351  38.16003151  35.81832506\n",
            "   34.36250552]\n",
            " [145.56972321  86.78236607 111.14970536  99.4056584   93.23408036\n",
            "   89.40094418]] \n",
            "\n",
            "A\n",
            " [[3.         3.         3.         3.         3.         3.        ]\n",
            " [3.         1.875      1.36363636 1.07142857 0.88235294 0.75      ]\n",
            " [3.         1.36363636 0.88235294 0.65217391 0.51724138 0.42857143]\n",
            " [3.         1.07142857 0.65217391 0.46875    0.36585366 0.3       ]\n",
            " [3.         0.88235294 0.51724138 0.36585366 0.28301887 0.23076923]\n",
            " [3.         0.75       0.42857143 0.3        0.23076923 0.1875    ]] \n",
            "\n",
            "L@u - A\n",
            " [[  0.      0.      0.      0.      0.      0.   ]\n",
            " [ 51.712  30.739  40.404  36.28   34.152  32.846]\n",
            " [  3.75    2.574   4.461   4.052   3.822   3.674]\n",
            " [ 15.469   8.96   12.754  11.268  10.525  10.077]\n",
            " [ 52.899  32.485  42.102  37.794  35.535  34.132]\n",
            " [142.57   86.032 110.721  99.106  93.003  89.213]] \n",
            "\n"
          ]
        }
      ]
    },
    {
      "cell_type": "code",
      "source": [
        "from scipy import linalg\n",
        "\n",
        "P,L,U = linalg.lu(A)\n",
        "\n",
        "print(\"P\\n\",P, \"\\n\")\n",
        "print(\"L\\n\",L, \"\\n\")\n",
        "print(\"U\\n\",U, \"\\n\")\n",
        "print(\"A= P@L@U\\n\", P@L@U, \"\\n\")\n",
        "print(\"A\\n\",A, \"\\n\")\n",
        "\n",
        "# Quick sanity check: L times U must equal the original matrix, up to floating-point errors.\n",
        "print(\"L@u - A\\n\",np.round(P@L@U-A,3), \"\\n\")"
      ],
      "metadata": {
        "colab": {
          "base_uri": "https://localhost:8080/"
        },
        "id": "acLrGb5y4aZl",
        "outputId": "2c7b88d4-3ae9-48cd-9413-01bb4609b23d"
      },
      "execution_count": 18,
      "outputs": [
        {
          "output_type": "stream",
          "name": "stdout",
          "text": [
            "P\n",
            " [[1. 0. 0. 0. 0. 0.]\n",
            " [0. 0. 1. 0. 0. 0.]\n",
            " [0. 0. 0. 1. 0. 0.]\n",
            " [0. 0. 0. 0. 1. 0.]\n",
            " [0. 0. 0. 0. 0. 1.]\n",
            " [0. 1. 0. 0. 0. 0.]] \n",
            "\n",
            "L\n",
            " [[1.         0.         0.         0.         0.         0.        ]\n",
            " [1.         1.         0.         0.         0.         0.        ]\n",
            " [1.         0.5        1.         0.         0.         0.        ]\n",
            " [1.         0.72727273 0.70588235 1.         0.         0.        ]\n",
            " [1.         0.85714286 0.40993789 0.83482143 1.         0.        ]\n",
            " [1.         0.94117647 0.17849899 0.4255677  0.78870221 1.        ]] \n",
            "\n",
            "U\n",
            " [[ 3.00000000e+00  3.00000000e+00  3.00000000e+00  3.00000000e+00\n",
            "   3.00000000e+00  3.00000000e+00]\n",
            " [ 0.00000000e+00 -2.25000000e+00 -2.57142857e+00 -2.70000000e+00\n",
            "  -2.76923077e+00 -2.81250000e+00]\n",
            " [ 0.00000000e+00  0.00000000e+00 -3.50649351e-01 -5.78571429e-01\n",
            "  -7.33031674e-01 -8.43750000e-01]\n",
            " [ 0.00000000e+00  0.00000000e+00  0.00000000e+00  2.42136380e-02\n",
            "   4.86615163e-02  6.96142093e-02]\n",
            " [ 0.00000000e+00  0.00000000e+00  0.00000000e+00  0.00000000e+00\n",
            "  -6.46187856e-04 -1.51605479e-03]\n",
            " [ 0.00000000e+00  0.00000000e+00  0.00000000e+00  0.00000000e+00\n",
            "   0.00000000e+00  6.73010748e-06]] \n",
            "\n",
            "A= P@L@U\n",
            " [[3.         3.         3.         3.         3.         3.        ]\n",
            " [3.         1.875      1.36363636 1.07142857 0.88235294 0.75      ]\n",
            " [3.         1.36363636 0.88235294 0.65217391 0.51724138 0.42857143]\n",
            " [3.         1.07142857 0.65217391 0.46875    0.36585366 0.3       ]\n",
            " [3.         0.88235294 0.51724138 0.36585366 0.28301887 0.23076923]\n",
            " [3.         0.75       0.42857143 0.3        0.23076923 0.1875    ]] \n",
            "\n",
            "A\n",
            " [[3.         3.         3.         3.         3.         3.        ]\n",
            " [3.         1.875      1.36363636 1.07142857 0.88235294 0.75      ]\n",
            " [3.         1.36363636 0.88235294 0.65217391 0.51724138 0.42857143]\n",
            " [3.         1.07142857 0.65217391 0.46875    0.36585366 0.3       ]\n",
            " [3.         0.88235294 0.51724138 0.36585366 0.28301887 0.23076923]\n",
            " [3.         0.75       0.42857143 0.3        0.23076923 0.1875    ]] \n",
            "\n",
            "L@u - A\n",
            " [[ 0.  0.  0.  0.  0.  0.]\n",
            " [ 0.  0.  0.  0.  0.  0.]\n",
            " [ 0.  0.  0.  0.  0. -0.]\n",
            " [ 0.  0.  0.  0.  0. -0.]\n",
            " [ 0.  0.  0.  0.  0. -0.]\n",
            " [ 0.  0. -0. -0.  0.  0.]] \n",
            "\n"
          ]
        }
      ]
    },
    {
      "cell_type": "code",
      "metadata": {
        "colab": {
          "base_uri": "https://localhost:8080/"
        },
        "id": "Ea5i2TSF1RPx",
        "outputId": "eb694e13-f6e3-4597-8b4f-4ab327d0644f"
      },
      "source": [
        "A[1, 1] = 3\n",
        "\n",
        "P, L, U, = diy_lu_column_pivot_reconstruct(A1)\n",
        "\n",
        "print(\"P\\n\",P, \"\\n\")\n",
        "print(\"L\\n\",L, \"\\n\")\n",
        "print(\"U\\n\",U, \"\\n\")\n",
        "print(\"A= P@L@U\\n\", P@L@U, \"\\n\")\n",
        "print(\"A\\n\",A, \"\\n\")\n",
        "\n",
        "# Quick sanity check: L times U must equal the original matrix, up to floating-point errors.\n",
        "print(\"L@u - A\\n\",np.round(P@L@U-A,3), \"\\n\")"
      ],
      "execution_count": 19,
      "outputs": [
        {
          "output_type": "stream",
          "name": "stdout",
          "text": [
            "P\n",
            " [[1. 0. 0. 0. 0. 0.]\n",
            " [0. 0. 0. 0. 0. 1.]\n",
            " [0. 1. 0. 0. 0. 0.]\n",
            " [0. 0. 1. 0. 0. 0.]\n",
            " [0. 0. 0. 1. 0. 0.]\n",
            " [0. 0. 0. 0. 1. 0.]] \n",
            "\n",
            "L\n",
            " [[ 1.          0.          0.          0.          0.          0.        ]\n",
            " [ 2.25        1.25        0.          0.          0.          1.        ]\n",
            " [ 3.94642857  2.57142857  1.375       0.          0.          0.        ]\n",
            " [11.6292305   6.2557891   3.3659601   2.0074813   0.          0.        ]\n",
            " [30.8573823  16.65794538  7.79174587  4.33212095  2.0755701   0.        ]\n",
            " [12.59021418  6.79861721  3.18619662  1.60540034  1.          0.        ]] \n",
            "\n",
            "U\n",
            " [[ 3.00000000e+00  3.00000000e+00  3.00000000e+00  3.00000000e+00\n",
            "   3.00000000e+00  3.00000000e+00]\n",
            " [ 0.00000000e+00 -2.25000000e+00  0.00000000e+00 -1.63636364e+00\n",
            "  -1.92857143e+00 -2.11764706e+00]\n",
            " [ 0.00000000e+00  0.00000000e+00 -1.63636364e+00 -2.47517189e-01\n",
            "  -1.43744454e-01 -6.25905535e-02]\n",
            " [ 0.00000000e+00  0.00000000e+00  2.22044605e-16 -9.24730366e-02\n",
            "  -4.75511789e-02 -1.92024329e-02]\n",
            " [ 0.00000000e+00  0.00000000e+00 -3.56470485e-16  0.00000000e+00\n",
            "   1.84094605e-03  1.18084166e-03]\n",
            " [ 0.00000000e+00  0.00000000e+00  2.94129089e-16 -2.77555756e-17\n",
            "   4.33680869e-19 -1.23295047e-05]] \n",
            "\n",
            "A= P@L@U\n",
            " [[ 3.          3.          3.          3.          3.          3.        ]\n",
            " [37.77064255 22.47375382 32.55686625 25.70853789 24.12652781 23.14449824]\n",
            " [ 6.75        3.9375      6.75        4.70454545  4.33928571  4.10292885]\n",
            " [11.83928571  6.05357143  9.58928571  7.29115737  6.68245342  6.30784555]\n",
            " [34.88769149 20.81216601 29.37975678 23.63217482 22.24365917 21.39091227]\n",
            " [92.5721469  55.0917698  79.8220173  62.98449541 59.12391268 56.72807183]] \n",
            "\n",
            "A\n",
            " [[3.         3.         3.         3.         3.         3.        ]\n",
            " [3.         3.         1.36363636 1.07142857 0.88235294 0.75      ]\n",
            " [3.         1.36363636 0.88235294 0.65217391 0.51724138 0.42857143]\n",
            " [3.         1.07142857 0.65217391 0.46875    0.36585366 0.3       ]\n",
            " [3.         0.88235294 0.51724138 0.36585366 0.28301887 0.23076923]\n",
            " [3.         0.75       0.42857143 0.3        0.23076923 0.1875    ]] \n",
            "\n",
            "L@u - A\n",
            " [[ 0.     0.     0.     0.     0.     0.   ]\n",
            " [34.771 19.474 31.193 24.637 23.244 22.394]\n",
            " [ 3.75   2.574  5.868  4.052  3.822  3.674]\n",
            " [ 8.839  4.982  8.937  6.822  6.317  6.008]\n",
            " [31.888 19.93  28.863 23.266 21.961 21.16 ]\n",
            " [89.572 54.342 79.393 62.684 58.893 56.541]] \n",
            "\n"
          ]
        }
      ]
    },
    {
      "cell_type": "code",
      "source": [
        "from scipy import linalg\n",
        "\n",
        "P,L,U = linalg.lu(A)\n",
        "\n",
        "print(\"P\\n\",P, \"\\n\")\n",
        "print(\"L\\n\",L, \"\\n\")\n",
        "print(\"U\\n\",U, \"\\n\")\n",
        "print(\"A= P@L@U\\n\", P@L@U, \"\\n\")\n",
        "print(\"A\\n\",A, \"\\n\")\n",
        "\n",
        "# Quick sanity check: L times U must equal the original matrix, up to floating-point errors.\n",
        "print(\"L@u - A\\n\",np.round(P@L@U-A,3), \"\\n\")"
      ],
      "metadata": {
        "colab": {
          "base_uri": "https://localhost:8080/"
        },
        "id": "6odsHUNwqGzD",
        "outputId": "b45d942b-0cd7-4466-dd7a-ed74bfa45654"
      },
      "execution_count": 20,
      "outputs": [
        {
          "output_type": "stream",
          "name": "stdout",
          "text": [
            "P\n",
            " [[1. 0. 0. 0. 0. 0.]\n",
            " [0. 0. 1. 0. 0. 0.]\n",
            " [0. 0. 0. 1. 0. 0.]\n",
            " [0. 0. 0. 0. 1. 0.]\n",
            " [0. 0. 0. 0. 0. 1.]\n",
            " [0. 1. 0. 0. 0. 0.]] \n",
            "\n",
            "L\n",
            " [[ 1.          0.          0.          0.          0.          0.        ]\n",
            " [ 1.          1.          0.          0.          0.          0.        ]\n",
            " [ 1.         -0.          1.          0.          0.          0.        ]\n",
            " [ 1.          0.72727273  0.1512605   1.          0.          0.        ]\n",
            " [ 1.          0.85714286  0.08784383  0.51421669  1.          0.        ]\n",
            " [ 1.          0.94117647  0.03824978  0.2076544   0.64143198  1.        ]] \n",
            "\n",
            "U\n",
            " [[ 3.00000000e+00  3.00000000e+00  3.00000000e+00  3.00000000e+00\n",
            "   3.00000000e+00  3.00000000e+00]\n",
            " [ 0.00000000e+00 -2.25000000e+00 -2.57142857e+00 -2.70000000e+00\n",
            "  -2.76923077e+00 -2.81250000e+00]\n",
            " [ 0.00000000e+00  0.00000000e+00 -1.63636364e+00 -1.92857143e+00\n",
            "  -2.11764706e+00 -2.25000000e+00]\n",
            " [ 0.00000000e+00  0.00000000e+00  0.00000000e+00 -9.24730366e-02\n",
            "  -1.48456245e-01 -1.85637892e-01]\n",
            " [ 0.00000000e+00  0.00000000e+00  0.00000000e+00  0.00000000e+00\n",
            "   1.84094605e-03  3.82101258e-03]\n",
            " [ 0.00000000e+00  0.00000000e+00  0.00000000e+00  0.00000000e+00\n",
            "   0.00000000e+00 -1.23295047e-05]] \n",
            "\n",
            "A= P@L@U\n",
            " [[3.         3.         3.         3.         3.         3.        ]\n",
            " [3.         3.         1.36363636 1.07142857 0.88235294 0.75      ]\n",
            " [3.         1.36363636 0.88235294 0.65217391 0.51724138 0.42857143]\n",
            " [3.         1.07142857 0.65217391 0.46875    0.36585366 0.3       ]\n",
            " [3.         0.88235294 0.51724138 0.36585366 0.28301887 0.23076923]\n",
            " [3.         0.75       0.42857143 0.3        0.23076923 0.1875    ]] \n",
            "\n",
            "A\n",
            " [[3.         3.         3.         3.         3.         3.        ]\n",
            " [3.         3.         1.36363636 1.07142857 0.88235294 0.75      ]\n",
            " [3.         1.36363636 0.88235294 0.65217391 0.51724138 0.42857143]\n",
            " [3.         1.07142857 0.65217391 0.46875    0.36585366 0.3       ]\n",
            " [3.         0.88235294 0.51724138 0.36585366 0.28301887 0.23076923]\n",
            " [3.         0.75       0.42857143 0.3        0.23076923 0.1875    ]] \n",
            "\n",
            "L@u - A\n",
            " [[ 0.  0.  0.  0.  0.  0.]\n",
            " [ 0.  0.  0.  0.  0.  0.]\n",
            " [ 0.  0.  0.  0.  0. -0.]\n",
            " [ 0.  0.  0.  0.  0.  0.]\n",
            " [ 0.  0.  0.  0.  0. -0.]\n",
            " [ 0.  0. -0. -0.  0.  0.]] \n",
            "\n"
          ]
        }
      ]
    }
  ]
}