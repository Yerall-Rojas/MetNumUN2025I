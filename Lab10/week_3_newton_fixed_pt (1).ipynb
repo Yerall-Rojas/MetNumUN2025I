{
  "cells": [
    {
      "cell_type": "markdown",
      "metadata": {
        "id": "h2TxjE6ST95B"
      },
      "source": [
        "# Part I. Root-finding. Newton's iteration."
      ]
    },
    {
      "cell_type": "markdown",
      "metadata": {
        "id": "_qFXBbLXT95F"
      },
      "source": [
        "Write a function which performs Newton's iteration for a given function $f(x)$ with known derivative $f'(x)$. Your function should find the root of $f(x)$ with a predefined absolute accuracy $\\epsilon$."
      ]
    },
    {
      "cell_type": "code",
      "execution_count": null,
      "metadata": {
        "collapsed": true,
        "id": "chRy1mRpT95F"
      },
      "outputs": [],
      "source": [
        "def newton_iteration(f, fder, x0, eps=1e-5, maxiter=1000):\n",
        "    \"\"\"Find a root of $f(x) = 0$ via Newton's iteration starting from x0.\n",
        "\n",
        "    Parameters\n",
        "    ----------\n",
        "    f : callable\n",
        "        The function to find a root of.\n",
        "    fder : callable\n",
        "        The derivative of `f`.\n",
        "    x0 : float\n",
        "        Initial value for the Newton's iteration.\n",
        "    eps : float\n",
        "        The target accuracy.\n",
        "        The iteration stops when the distance between successive iterates is below `eps`.\n",
        "        Default is 1e-5.\n",
        "    maxiter : int\n",
        "        The maximum number of iterations (default is 1000.)\n",
        "        Iterations terminate if the number of iterations exceeds `maxiter`.\n",
        "        This parameter is only needed to avoid infinite loops if iterations wander off.\n",
        "\n",
        "    Returns\n",
        "    -------\n",
        "    x : float\n",
        "        The estimate for the root.\n",
        "    niter : int\n",
        "        The number of iterations.\n",
        "    \"\"\"\n",
        "    x = x0\n",
        "    niter = 0\n",
        "\n",
        "    for i in range(maxiter):\n",
        "        fx = f(x)\n",
        "        fpx = fder(x)\n",
        "\n",
        "        # Check if derivative is zero (avoid division by zero)\n",
        "        if abs(fpx) < 1e-15:\n",
        "            print(f\"Warning: Derivative is near zero at x = {x}\")\n",
        "            break\n",
        "\n",
        "        # Newton's iteration formula: x_{n+1} = x_n - f(x_n)/f'(x_n)\n",
        "        x_new = x - fx / fpx\n",
        "        niter += 1\n",
        "\n",
        "        # Check for convergence\n",
        "        if abs(x_new - x) < eps:\n",
        "            return x_new, niter\n",
        "\n",
        "        x = x_new\n",
        "\n",
        "    print(f\"Warning: Maximum iterations ({maxiter}) reached without convergence\")\n",
        "    return x, niter"
      ]
    },
    {
      "cell_type": "markdown",
      "metadata": {
        "id": "qGsOVPqwT95G"
      },
      "source": [
        "### Test I.1\n",
        "\n",
        "Test your implementation on a simple example, $f(x) = x^2 - 1$ or similar. (20% of the total grade)"
      ]
    },
    {
      "cell_type": "code",
      "execution_count": 2,
      "metadata": {
        "collapsed": true,
        "id": "ggan1StnT95H",
        "colab": {
          "base_uri": "https://localhost:8080/"
        },
        "outputId": "c092441f-05d7-4f8d-d501-06983b8ff74a"
      },
      "outputs": [
        {
          "output_type": "stream",
          "name": "stdout",
          "text": [
            "Root found: 1.000000 in 5 iterations (starting from x0=2)\n",
            "Root found: -1.000000 in 5 iterations (starting from x0=-2)\n"
          ]
        }
      ],
      "source": [
        "def newton_iteration(f, fder, x0, eps=1e-5, maxiter=1000):\n",
        "\n",
        "    x = x0\n",
        "    niter = 0\n",
        "\n",
        "    for i in range(maxiter):\n",
        "        fx = f(x)\n",
        "        fpx = fder(x)\n",
        "\n",
        "        # Check if derivative is zero (avoid division by zero)\n",
        "        if abs(fpx) < 1e-15:\n",
        "            print(f\"Warning: Derivative is near zero at x = {x}\")\n",
        "            break\n",
        "\n",
        "        # Newton's iteration formula: x_{n+1} = x_n - f(x_n)/f'(x_n)\n",
        "        x_new = x - fx / fpx\n",
        "        niter += 1\n",
        "\n",
        "        # Check for convergence\n",
        "        if abs(x_new - x) < eps:\n",
        "            return x_new, niter\n",
        "\n",
        "        x = x_new\n",
        "\n",
        "    print(f\"Warning: Maximum iterations ({maxiter}) reached without convergence\")\n",
        "    return x, niter\n",
        "\n",
        "# Example: f(x) = x^2 - 1, f'(x) = 2x\n",
        "def f(x):\n",
        "    return x**2 - 1\n",
        "\n",
        "def fder(x):\n",
        "    return 2*x\n",
        "\n",
        "# Test the implementation starting from x0 = 2\n",
        "root, niter = newton_iteration(f, fder, x0=2)\n",
        "print(f\"Root found: {root:.6f} in {niter} iterations (starting from x0=2)\")\n",
        "\n",
        "# Test the implementation starting from x0 = -2\n",
        "root_neg, niter_neg = newton_iteration(f, fder, x0=-2)\n",
        "print(f\"Root found: {root_neg:.6f} in {niter_neg} iterations (starting from x0=-2)\")"
      ]
    },
    {
      "cell_type": "markdown",
      "metadata": {
        "id": "wzkKQBL7T95H"
      },
      "source": [
        "### Test I.2\n",
        "\n",
        "Now consider a function which has a multiple root. Take $f(x) = (x^2 - 1)^2$ as an example. Implement a modified Newton's iteraion,\n",
        "\n",
        "$$\n",
        "x_{n+1} = x_{n} - m \\frac{f(x_n)}{f'(x_n)}\n",
        "$$\n",
        "\n",
        "and vary $m= 1, 2, 3, 4, 5$. Check the number of iterations required for convergence within a fixed $\\epsilon$. Are your observations consistent with the expectation that the convergence is quadratic is $m$ equals the multiplicity of the root, and is linear otherwise? (40% of the total grade)"
      ]
    },
    {
      "cell_type": "code",
      "execution_count": 3,
      "metadata": {
        "collapsed": true,
        "id": "OIx5yP-9T95I",
        "colab": {
          "base_uri": "https://localhost:8080/"
        },
        "outputId": "ac137dbe-f608-4e20-bd9d-567441aa6ac0"
      },
      "outputs": [
        {
          "output_type": "stream",
          "name": "stdout",
          "text": [
            "Warning: Maximum iterations (1000) reached without convergence\n",
            "Warning: Maximum iterations (1000) reached without convergence\n",
            "m\tRoot\t\tIterations\n",
            "1\t1.000006\t17\n",
            "2\t1.000000\t4\n",
            "3\t0.999998\t17\n",
            "4\t1.500000\t1000\n",
            "5\t-1.764472\t1000\n"
          ]
        }
      ],
      "source": [
        "def modified_newton_iteration(f, fder, x0, m=1, eps=1e-5, maxiter=1000):\n",
        "\n",
        "    x = x0\n",
        "    niter = 0\n",
        "\n",
        "    for i in range(maxiter):\n",
        "        fx = f(x)\n",
        "        fpx = fder(x)\n",
        "\n",
        "        if abs(fpx) < 1e-15:\n",
        "            print(f\"Warning: Derivative is near zero at x = {x}\")\n",
        "            break\n",
        "\n",
        "        x_new = x - m * fx / fpx\n",
        "        niter += 1\n",
        "\n",
        "        if abs(x_new - x) < eps:\n",
        "            return x_new, niter\n",
        "\n",
        "        x = x_new\n",
        "\n",
        "    print(f\"Warning: Maximum iterations ({maxiter}) reached without convergence\")\n",
        "    return x, niter\n",
        "\n",
        "# Function with multiple root: f(x) = (x^2 - 1)^2\n",
        "def f(x):\n",
        "    return (x**2 - 1)**2\n",
        "\n",
        "# Derivative: f'(x) = 4x(x^2 - 1)\n",
        "def fder(x):\n",
        "    return 4 * x * (x**2 - 1)\n",
        "\n",
        "\n",
        "x0 = 1.5\n",
        "eps = 1e-5\n",
        "\n",
        "results = []\n",
        "for m in [1, 2, 3, 4, 5]:\n",
        "    root, niter = modified_newton_iteration(f, fder, x0, m=m, eps=eps)\n",
        "    results.append((m, root, niter))\n",
        "\n",
        "print(\"m\\tRoot\\t\\tIterations\")\n",
        "for m, root, niter in results:\n",
        "    print(f\"{m}\\t{root:.6f}\\t{niter}\")\n"
      ]
    },
    {
      "cell_type": "markdown",
      "metadata": {
        "id": "T9om2b1lT95I"
      },
      "source": [
        "# Part II. Fixed-point iteration"
      ]
    },
    {
      "cell_type": "markdown",
      "metadata": {
        "id": "urnNPsOKT95J"
      },
      "source": [
        "Consider the following equation:\n",
        "\n",
        "$$\n",
        "\\sqrt{x} = \\cos{x}\n",
        "$$\n",
        "\n",
        "Plot the left-hand side and right-hand side of this equation, and localize the root graphically. Estimate the location of the root by visual inspection of the plot.\n",
        "\n",
        "Write a function which finds the solution using fixed-point iteration up to a predefined accuracy $\\epsilon$. Compare the result to an estimate from a visual inspection.\n",
        "\n",
        "Next, rewrite the fixed-point problem in the form\n",
        "\n",
        "$$\n",
        "x = x - \\alpha f(x)\n",
        "$$\n",
        "\n",
        "where $\\alpha$ is the free parameter. Check the dependence of the number of iterations required for a given $\\epsilon$ on $\\alpha$. Compare your results to an expectation that the optimal value of $\\alpha$ is given by\n",
        "\n",
        "$$\n",
        "\\alpha = \\frac{2}{m + M}\n",
        "$$\n",
        "\n",
        "where $0 < m < |f'(x)| < M$ over the localization interval. (40% of the total grade)"
      ]
    },
    {
      "cell_type": "code",
      "execution_count": 4,
      "metadata": {
        "collapsed": true,
        "id": "SOlb04UzT95K",
        "colab": {
          "base_uri": "https://localhost:8080/",
          "height": 638
        },
        "outputId": "cbd122a9-6d53-4bbe-cbb5-86ef95997d88"
      },
      "outputs": [
        {
          "output_type": "display_data",
          "data": {
            "text/plain": [
              "<Figure size 640x480 with 1 Axes>"
            ],
            "image/png": "[encoded data removed]"
          },
          "metadata": {}
        },
        {
          "output_type": "stream",
          "name": "stdout",
          "text": [
            "Raíz punto fijo: 0.641719 en 224 iteraciones (desde x0=0.7)\n",
            "Alpha\tRaíz\t\tIteraciones\n",
            "0.20\t0.641744\t27\n",
            "0.50\t0.641719\t10\n",
            "0.80\t0.641714\t4\n",
            "1.00\t0.641713\t7\n",
            "1.20\t0.641711\t13\n",
            "Estimado m = 1.2101, M = 1.3415, alpha óptimo ≈ 0.7838\n",
            "Alpha óptimo\t0.641715\t4 iteraciones\n"
          ]
        }
      ],
      "source": [
        "import numpy as np\n",
        "import matplotlib.pyplot as plt\n",
        "\n",
        "\n",
        "x = np.linspace(0, 2, 500)\n",
        "lhs = np.sqrt(x)\n",
        "rhs = np.cos(x)\n",
        "\n",
        "plt.plot(x, lhs, label='sqrt(x)')\n",
        "plt.plot(x, rhs, label='cos(x)')\n",
        "plt.xlabel('x')\n",
        "plt.ylabel('y')\n",
        "plt.title('Gráfica para sqrt(x) = cos(x)')\n",
        "plt.legend()\n",
        "plt.grid(True)\n",
        "plt.show()\n",
        "\n",
        "\n",
        "def fixed_point_iteration(g, x0, eps=1e-5, maxiter=1000):\n",
        "    x = x0\n",
        "    for i in range(maxiter):\n",
        "        x_new = g(x)\n",
        "        if abs(x_new - x) < eps:\n",
        "            return x_new, i+1\n",
        "        x = x_new\n",
        "    print(\"Advertencia: se alcanzó el máximo de iteraciones.\")\n",
        "    return x, maxiter\n",
        "\n",
        "def g(x):\n",
        "    return np.cos(x)**2\n",
        "\n",
        "root_fp, niter_fp = fixed_point_iteration(g, x0=0.7)\n",
        "print(f\"Raíz punto fijo: {root_fp:.6f} en {niter_fp} iteraciones (desde x0=0.7)\")\n",
        "\n",
        "\n",
        "def f(x):\n",
        "    return np.sqrt(x) - np.cos(x)\n",
        "\n",
        "def relaxed_fixed_point(x0, alpha, eps=1e-5, maxiter=1000):\n",
        "    x = x0\n",
        "    for i in range(maxiter):\n",
        "        x_new = x - alpha * f(x)\n",
        "        if abs(x_new - x) < eps:\n",
        "            return x_new, i+1\n",
        "        x = x_new\n",
        "    print(f\"Advertencia: alpha={alpha}: máximo de iteraciones alcanzado.\")\n",
        "    return x, maxiter\n",
        "\n",
        "alphas = [0.2, 0.5, 0.8, 1.0, 1.2]\n",
        "print(\"Alpha\\tRaíz\\t\\tIteraciones\")\n",
        "for alpha in alphas:\n",
        "    root_alpha, niter_alpha = relaxed_fixed_point(x0=0.7, alpha=alpha)\n",
        "    print(f\"{alpha:.2f}\\t{root_alpha:.6f}\\t{niter_alpha}\")\n",
        "\n",
        "\n",
        "def fder(x):\n",
        "    return 0.5 / np.sqrt(x) + np.sin(x)\n",
        "\n",
        "xs = np.linspace(0.6, 1.0, 100)\n",
        "ders = np.abs(fder(xs))\n",
        "m = np.min(ders)\n",
        "M = np.max(ders)\n",
        "alpha_opt = 2 / (m + M)\n",
        "print(f\"Estimado m = {m:.4f}, M = {M:.4f}, alpha óptimo ≈ {alpha_opt:.4f}\")\n",
        "\n",
        "# Test con alpha óptimo\n",
        "root_opt, niter_opt = relaxed_fixed_point(x0=0.7, alpha=alpha_opt)\n",
        "print(f\"Alpha óptimo\\t{root_opt:.6f}\\t{niter_opt} iteraciones\")"
      ]
    },
    {
      "cell_type": "markdown",
      "metadata": {
        "id": "WaEqb4_ST95K"
      },
      "source": [
        "# Part III. Newton's fractal.\n",
        "\n",
        "(Not graded).\n",
        "\n",
        "Consider the equation\n",
        "\n",
        "$$\n",
        "x^3 = 1\n",
        "$$\n",
        "\n",
        "It has three solutions in the complex plane, $x_k = \\exp(i\\, 2\\pi k/ 3)$, $k = 0, 1, 2$.\n",
        "\n",
        "The Newton's iterations converge to one of these solutions, depending on the starting point in the complex plane (to converge to a complex-valued solution, the iteration needs a complex-valued starting point).\n",
        "\n",
        "Plot the \\emph{basins of attraction} of these roots on the complex plane of $x$ (i.e., on the plane $\\mathrm{Re}x$ -- $\\mathrm{Im}x$). To this end, make a series of calculations, varying the initial conditions on a grid of points.\n",
        "Color the grid in three colors, according to the root, to which iterations converged."
      ]
    },
    {
      "cell_type": "code",
      "execution_count": 5,
      "metadata": {
        "collapsed": true,
        "id": "WkOcvzD5T95K",
        "colab": {
          "base_uri": "https://localhost:8080/",
          "height": 722
        },
        "outputId": "f8cb7332-f9f1-43ba-940d-0d6956069727"
      },
      "outputs": [
        {
          "output_type": "display_data",
          "data": {
            "text/plain": [
              "<Figure size 800x800 with 1 Axes>"
            ],
            "image/png": "[encoded data removed]"
          },
          "metadata": {}
        }
      ],
      "source": [
        "import numpy as np\n",
        "import matplotlib.pyplot as plt\n",
        "\n",
        "# Newton's iteration for f(x) = x^3 - 1\n",
        "def newton_cubic(x0, eps=1e-5, maxiter=50):\n",
        "    x = x0\n",
        "    for i in range(maxiter):\n",
        "        fx = x**3 - 1\n",
        "        fpx = 3 * x**2\n",
        "        # Avoid division by zero\n",
        "        if abs(fpx) < 1e-14:\n",
        "            break\n",
        "        x_new = x - fx / fpx\n",
        "        if abs(x_new - x) < eps:\n",
        "            return x_new\n",
        "        x = x_new\n",
        "    return x\n",
        "\n",
        "\n",
        "roots = np.array([np.exp(1j * 2 * np.pi * k / 3) for k in range(3)])\n",
        "\n",
        "def which_root(z):\n",
        "    return np.argmin(np.abs(roots - z))\n",
        "\n",
        "# Grid parameters\n",
        "N = 400\n",
        "re = np.linspace(-1.5, 1.5, N)\n",
        "im = np.linspace(-1.5, 1.5, N)\n",
        "RE, IM = np.meshgrid(re, im)\n",
        "Z0 = RE + 1j * IM\n",
        "\n",
        "basin = np.zeros_like(RE, dtype=int)\n",
        "\n",
        "for i in range(N):\n",
        "    for j in range(N):\n",
        "        z0 = Z0[i, j]\n",
        "        z = newton_cubic(z0)\n",
        "        basin[i, j] = which_root(z)\n",
        "\n",
        "# Plot\n",
        "plt.figure(figsize=(8, 8))\n",
        "plt.imshow(basin, extent=[re[0], re[-1], im[0], im[-1]], origin='lower',\n",
        "           cmap=plt.cm.tab10, interpolation='nearest')\n",
        "plt.xlabel('Re(x)')\n",
        "plt.ylabel('Im(x)')\n",
        "plt.title('Basins of attraction for $x^3 = 1$ using Newton\\'s method')\n",
        "plt.show()"
      ]
    }
  ],
  "metadata": {
    "colab": {
      "provenance": []
    },
    "kernelspec": {
      "display_name": "Python 3",
      "language": "python",
      "name": "python3"
    },
    "language_info": {
      "codemirror_mode": {
        "name": "ipython",
        "version": 3
      },
      "file_extension": ".py",
      "mimetype": "text/x-python",
      "name": "python",
      "nbconvert_exporter": "python",
      "pygments_lexer": "ipython3",
      "version": "3.10.8"
    }
  },
  "nbformat": 4,
  "nbformat_minor": 0
}