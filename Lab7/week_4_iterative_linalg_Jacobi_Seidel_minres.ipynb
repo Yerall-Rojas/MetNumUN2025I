{
  "cells": [
    {
      "cell_type": "markdown",
      "metadata": {
        "id": "jxMJ2_fyncc9"
      },
      "source": [
        "# Simple iteration for systems of linear equations"
      ]
    },
    {
      "cell_type": "markdown",
      "metadata": {
        "id": "GravMmFBncdB"
      },
      "source": [
        "First, generate a random diagonally dominant matrix, for testing."
      ]
    },
    {
      "cell_type": "code",
      "execution_count": null,
      "metadata": {
        "collapsed": true,
        "id": "EDJmeMM_ncdC"
      },
      "outputs": [],
      "source": [
        "import numpy as np\n",
        "rndm = np.random.RandomState(1234)\n",
        "\n",
        "n = 10\n",
        "A = rndm.uniform(size=(n, n)) + np.diagflat([15]*n)\n",
        "b = rndm.uniform(size=n)"
      ]
    },
    {
      "cell_type": "markdown",
      "metadata": {
        "id": "_1kAe0KkncdD"
      },
      "source": [
        "# I.  Jacobi iteration\n",
        "\n",
        "Given\n",
        "\n",
        "$$\n",
        "A x = b\n",
        "$$\n",
        "\n",
        "separate the diagonal part $D$,\n",
        "\n",
        "$$ A = D + (A - D) $$\n",
        "\n",
        "and write\n",
        "\n",
        "$$\n",
        "x = D^{-1} (D - A) x + D^{-1} b\\;.\n",
        "$$\n",
        "\n",
        "Then iterate\n",
        "\n",
        "$$\n",
        "x_{n + 1} = B x_{n} + c\\;,\n",
        "$$\n",
        "\n",
        "where\n",
        "\n",
        "$$\n",
        "B = D^{-1} (A - D) \\qquad \\text{and} \\qquad c = D^{-1} b\n",
        "$$\n"
      ]
    },
    {
      "cell_type": "markdown",
      "metadata": {
        "id": "iYbDsaDhncdE"
      },
      "source": [
        "Let's construct the matrix and the r.h.s. for the Jacobi iteration"
      ]
    },
    {
      "cell_type": "code",
      "execution_count": null,
      "metadata": {
        "id": "BwXPGvmvncdE"
      },
      "outputs": [],
      "source": [
        "diag_1d = np.diag(A)\n",
        "\n",
        "B = -A.copy()\n",
        "np.fill_diagonal(B, 0)\n",
        "\n",
        "D = np.diag(diag_1d)\n",
        "invD = np.diag(1./diag_1d)\n",
        "BB = invD @ B\n",
        "c = invD @ b"
      ]
    },
    {
      "cell_type": "code",
      "execution_count": null,
      "metadata": {
        "id": "AqATbH6rncdE"
      },
      "outputs": [],
      "source": [
        "# sanity checks\n",
        "from numpy.testing import assert_allclose\n",
        "\n",
        "assert_allclose(-B + D, A)\n",
        "\n",
        "\n",
        "# xx is a \"ground truth\" solution, compute it using a direct method\n",
        "xx = np.linalg.solve(A, b)\n",
        "\n",
        "np.testing.assert_allclose(A@xx, b)\n",
        "np.testing.assert_allclose(D@xx, B@xx + b)\n",
        "np.testing.assert_allclose(xx, BB@xx + c)"
      ]
    },
    {
      "cell_type": "markdown",
      "metadata": {
        "id": "pUj6eczLncdF"
      },
      "source": [
        "Check that $\\| B\\| \\leqslant 1$:"
      ]
    },
    {
      "cell_type": "code",
      "execution_count": null,
      "metadata": {
        "id": "94J2RpudncdF",
        "outputId": "0c21b760-e74e-4a67-ae80-33a0eaef76f6"
      },
      "outputs": [
        {
          "data": {
            "text/plain": [
              "0.36436161983015336"
            ]
          },
          "execution_count": 4,
          "metadata": {},
          "output_type": "execute_result"
        }
      ],
      "source": [
        "np.linalg.norm(BB)"
      ]
    },
    {
      "cell_type": "markdown",
      "metadata": {
        "id": "_EAOMPafncdG"
      },
      "source": [
        "### Do the Jacobi iteration"
      ]
    },
    {
      "cell_type": "code",
      "execution_count": null,
      "metadata": {
        "collapsed": true,
        "id": "iWGh3rJbncdG"
      },
      "outputs": [],
      "source": [
        "n_iter = 50\n",
        "\n",
        "x0 = np.ones(n)\n",
        "x = x0\n",
        "for _ in range(n_iter):\n",
        "    x = BB @ x + c"
      ]
    },
    {
      "cell_type": "code",
      "execution_count": null,
      "metadata": {
        "id": "k062IS1MncdG",
        "outputId": "ce87ff63-f1f0-4e3c-806e-2d538f71bf7f"
      },
      "outputs": [
        {
          "data": {
            "text/plain": [
              "array([  1.11022302e-16,   1.11022302e-16,  -1.11022302e-16,\n",
              "         0.00000000e+00,   0.00000000e+00,   0.00000000e+00,\n",
              "        -1.38777878e-17,   0.00000000e+00,   2.77555756e-17,\n",
              "         1.11022302e-16])"
            ]
          },
          "execution_count": 6,
          "metadata": {},
          "output_type": "execute_result"
        }
      ],
      "source": [
        "# Check the result:\n",
        "\n",
        "A @ x - b"
      ]
    },
    {
      "cell_type": "markdown",
      "metadata": {
        "id": "5TjMuFkPncdH"
      },
      "source": [
        "### Task I.1\n",
        "\n",
        "Collect the proof-of-concept above into a single function implementing the Jacobi iteration. This function should receive the r.h.s. matrix $A$, the l.h.s. vector `b`, and the number of iterations to perform.\n",
        "\n",
        "\n",
        "The matrix $A$ in the illustration above is strongly diagonally dominant, by construction.\n",
        "What happens if the diagonal matrix elements of $A$ are made smaller? Check the convergence of the Jacobi iteration, and check the value of the norm of $B$.\n",
        "\n",
        "(20% of the total grade)\n"
      ]
    },
    {
      "cell_type": "code",
      "execution_count": 2,
      "metadata": {
        "collapsed": true,
        "id": "a8gKq1vBncdH",
        "colab": {
          "base_uri": "https://localhost:8080/"
        },
        "outputId": "277f2a3f-f445-4a56-c166-c0e2a034010a"
      },
      "outputs": [
        {
          "output_type": "stream",
          "name": "stdout",
          "text": [
            "Spectral norm of B: 0.336147\n",
            "Iter 1, ||x_new - x|| = 2.256103e+00\n",
            "Iter 2, ||x_new - x|| = 6.835934e-01\n",
            "Iter 3, ||x_new - x|| = 1.883083e-01\n",
            "Iter 4, ||x_new - x|| = 5.439191e-02\n",
            "Iter 5, ||x_new - x|| = 1.538962e-02\n",
            "Iter 6, ||x_new - x|| = 4.392639e-03\n",
            "Iter 7, ||x_new - x|| = 1.249677e-03\n",
            "Iter 8, ||x_new - x|| = 3.558922e-04\n",
            "Iter 9, ||x_new - x|| = 1.013362e-04\n",
            "Iter 10, ||x_new - x|| = 2.885157e-05\n",
            "Iter 11, ||x_new - x|| = 8.215520e-06\n",
            "Iter 12, ||x_new - x|| = 2.339111e-06\n",
            "Iter 13, ||x_new - x|| = 6.660406e-07\n",
            "Iter 14, ||x_new - x|| = 1.896398e-07\n",
            "Iter 15, ||x_new - x|| = 5.399710e-08\n",
            "Iter 16, ||x_new - x|| = 1.537463e-08\n",
            "Iter 17, ||x_new - x|| = 4.377665e-09\n",
            "Iter 18, ||x_new - x|| = 1.246460e-09\n",
            "Iter 19, ||x_new - x|| = 3.549077e-10\n",
            "Iter 20, ||x_new - x|| = 1.010537e-10\n",
            "Iter 21, ||x_new - x|| = 2.877307e-11\n",
            "Iter 22, ||x_new - x|| = 8.192930e-12\n",
            "Iter 23, ||x_new - x|| = 2.332454e-12\n",
            "Iter 24, ||x_new - x|| = 6.642908e-13\n",
            "Iter 25, ||x_new - x|| = 1.892348e-13\n",
            "Final solution: [1.59100642 1.82655246 2.08351178]\n",
            "Spectral norm of B: 0.33614687661858267\n",
            "Spectral norm of B: 1.680734\n",
            "Iter 1, ||x_new - x|| = 1.128051e+01\n",
            "Iter 2, ||x_new - x|| = 1.708984e+01\n",
            "Iter 3, ||x_new - x|| = 2.353853e+01\n",
            "Iter 4, ||x_new - x|| = 3.399494e+01\n",
            "Iter 5, ||x_new - x|| = 4.809256e+01\n",
            "Iter 6, ||x_new - x|| = 6.863499e+01\n",
            "Iter 7, ||x_new - x|| = 9.763103e+01\n",
            "Iter 8, ||x_new - x|| = 1.390204e+02\n",
            "Iter 9, ||x_new - x|| = 1.979222e+02\n",
            "Iter 10, ||x_new - x|| = 2.817536e+02\n",
            "Iter 11, ||x_new - x|| = 4.011485e+02\n",
            "Iter 12, ||x_new - x|| = 5.710720e+02\n",
            "Iter 13, ||x_new - x|| = 8.130379e+02\n",
            "Iter 14, ||x_new - x|| = 1.157469e+03\n",
            "Iter 15, ||x_new - x|| = 1.647861e+03\n",
            "Iter 16, ||x_new - x|| = 2.345982e+03\n",
            "Iter 17, ||x_new - x|| = 3.339893e+03\n",
            "Iter 18, ||x_new - x|| = 4.754869e+03\n",
            "Iter 19, ||x_new - x|| = 6.769327e+03\n",
            "Iter 20, ||x_new - x|| = 9.637224e+03\n",
            "Iter 21, ||x_new - x|| = 1.372014e+04\n",
            "Iter 22, ||x_new - x|| = 1.953283e+04\n",
            "Iter 23, ||x_new - x|| = 2.780813e+04\n",
            "Iter 24, ||x_new - x|| = 3.958935e+04\n",
            "Iter 25, ||x_new - x|| = 5.636182e+04\n",
            "Final solution for weakly dominant A: [ 83795.10386658 105574.68260956 133014.96728516]\n",
            "Spectral norm of B (weakly dominant): 1.6807343830929133\n"
          ]
        }
      ],
      "source": [
        "import numpy as np\n",
        "\n",
        "def jacobi_iteration(A, b, num_iters, x0=None, verbose=False):\n",
        "    n = A.shape[0]\n",
        "    D = np.diag(np.diag(A))\n",
        "    D_inv = np.diag(1.0 / np.diag(A))\n",
        "    B = D_inv @ (A - D)\n",
        "    c = D_inv @ b\n",
        "\n",
        "    # Initial guess\n",
        "    x = np.zeros_like(b) if x0 is None else x0.copy()\n",
        "    history = [x.copy()]\n",
        "\n",
        "    # Spectral norm for convergence check\n",
        "    B_norm = np.linalg.norm(B, 2)\n",
        "    if verbose:\n",
        "        print(f\"Spectral norm of B: {B_norm:.6f}\")\n",
        "\n",
        "    for i in range(num_iters):\n",
        "        x_new = B @ x + c\n",
        "        history.append(x_new.copy())\n",
        "        if verbose:\n",
        "            print(f\"Iter {i+1}, ||x_new - x|| = {np.linalg.norm(x_new-x):.6e}\")\n",
        "        x = x_new\n",
        "\n",
        "    return x, history, B_norm\n",
        "\n",
        "if __name__ == \"__main__\":\n",
        "    A = np.array([[10, 1, 1],\n",
        "                  [2, 10, 1],\n",
        "                  [2, 2, 10]], dtype=float)\n",
        "    b = np.array([12, 13, 14], dtype=float)\n",
        "\n",
        "    x, hist, Bnorm = jacobi_iteration(A, b, num_iters=25, verbose=True)\n",
        "    print(\"Final solution:\", x)\n",
        "    print(\"Spectral norm of B:\", Bnorm)\n",
        "\n",
        "\n",
        "    A2 = np.array([[2, 1, 1],\n",
        "                   [2, 2, 1],\n",
        "                   [2, 2, 2]], dtype=float)\n",
        "    x2, hist2, Bnorm2 = jacobi_iteration(A2, b, num_iters=25, verbose=True)\n",
        "    print(\"Final solution for weakly dominant A:\", x2)\n",
        "    print(\"Spectral norm of B (weakly dominant):\", Bnorm2)"
      ]
    },
    {
      "cell_type": "markdown",
      "metadata": {
        "id": "iCOq_mz7ncdH"
      },
      "source": [
        "# II. Seidel's iteration."
      ]
    },
    {
      "cell_type": "markdown",
      "metadata": {
        "id": "te9MsGBencdH"
      },
      "source": [
        "##### Task II.1\n",
        "\n",
        "Implement the Seidel's iteration.\n",
        "\n",
        "Test it on a random matrix. Study the convergence of iterations, relate to the norm of the iteration matrix.\n",
        "\n",
        "(30% of the total grade)"
      ]
    },
    {
      "cell_type": "code",
      "execution_count": 4,
      "metadata": {
        "collapsed": true,
        "id": "JLE32zMxncdH",
        "colab": {
          "base_uri": "https://localhost:8080/"
        },
        "outputId": "b479ef17-9ab8-4e9e-e149-3460a9d3b7f3"
      },
      "outputs": [
        {
          "output_type": "stream",
          "name": "stdout",
          "text": [
            "Spectral norm of Gauss-Seidel matrix G: 0.466025\n",
            "Iter 1, ||x_new - x|| = 3.141975e-01\n",
            "Iter 2, ||x_new - x|| = 8.395942e-02\n",
            "Iter 3, ||x_new - x|| = 1.137142e-02\n",
            "Iter 4, ||x_new - x|| = 2.162794e-03\n",
            "Iter 5, ||x_new - x|| = 1.070040e-04\n",
            "Iter 6, ||x_new - x|| = 3.070953e-05\n",
            "Iter 7, ||x_new - x|| = 2.057188e-06\n",
            "Iter 8, ||x_new - x|| = 5.418870e-07\n",
            "Iter 9, ||x_new - x|| = 3.324390e-08\n",
            "Iter 10, ||x_new - x|| = 9.116781e-09\n",
            "Iter 11, ||x_new - x|| = 5.446550e-10\n",
            "Iter 12, ||x_new - x|| = 1.532302e-10\n",
            "Iter 13, ||x_new - x|| = 9.083147e-12\n",
            "Iter 14, ||x_new - x|| = 2.586997e-12\n",
            "Iter 15, ||x_new - x|| = 1.508861e-13\n",
            "Iter 16, ||x_new - x|| = 4.352887e-14\n",
            "Iter 17, ||x_new - x|| = 2.519889e-15\n",
            "Iter 18, ||x_new - x|| = 7.452207e-16\n",
            "Iter 19, ||x_new - x|| = 4.857226e-17\n",
            "Iter 20, ||x_new - x|| = 3.469447e-17\n",
            "Iter 21, ||x_new - x|| = 8.673617e-18\n",
            "Iter 22, ||x_new - x|| = 0.000000e+00\n",
            "Iter 23, ||x_new - x|| = 0.000000e+00\n",
            "Iter 24, ||x_new - x|| = 0.000000e+00\n",
            "Iter 25, ||x_new - x|| = 0.000000e+00\n",
            "Final solution by Gauss-Seidel: [ 0.15213417 -0.0081539   0.15229434  0.18389774 -0.05490761]\n",
            "Spectral norm of Gauss-Seidel iteration matrix: 0.46602453715324377\n",
            "Spectral norm of Gauss-Seidel matrix G: 89.991504\n",
            "Iter 1, ||x_new - x|| = 7.475363e+01\n",
            "Iter 2, ||x_new - x|| = 3.885741e+03\n",
            "Iter 3, ||x_new - x|| = 2.058247e+05\n",
            "Iter 4, ||x_new - x|| = 1.090308e+07\n",
            "Iter 5, ||x_new - x|| = 5.775654e+08\n",
            "Iter 6, ||x_new - x|| = 3.059517e+10\n",
            "Iter 7, ||x_new - x|| = 1.620707e+12\n",
            "Iter 8, ||x_new - x|| = 8.585318e+13\n",
            "Iter 9, ||x_new - x|| = 4.547871e+15\n",
            "Iter 10, ||x_new - x|| = 2.409128e+17\n",
            "Iter 11, ||x_new - x|| = 1.276179e+19\n",
            "Iter 12, ||x_new - x|| = 6.760260e+20\n",
            "Iter 13, ||x_new - x|| = 3.581089e+22\n",
            "Iter 14, ||x_new - x|| = 1.896998e+24\n",
            "Iter 15, ||x_new - x|| = 1.004890e+26\n",
            "Iter 16, ||x_new - x|| = 5.323170e+27\n",
            "Iter 17, ||x_new - x|| = 2.819825e+29\n",
            "Iter 18, ||x_new - x|| = 1.493736e+31\n",
            "Iter 19, ||x_new - x|| = 7.912716e+32\n",
            "Iter 20, ||x_new - x|| = 4.191576e+34\n",
            "Iter 21, ||x_new - x|| = 2.220389e+36\n",
            "Iter 22, ||x_new - x|| = 1.176199e+38\n",
            "Iter 23, ||x_new - x|| = 6.230639e+39\n",
            "Iter 24, ||x_new - x|| = 3.300535e+41\n",
            "Iter 25, ||x_new - x|| = 1.748381e+43\n",
            "Final solution for weakly dominant A: [ 3.87441829e+41 -5.40502430e+41  1.27753451e+43 -1.23039883e+43\n",
            " -1.58751372e+42]\n",
            "Spectral norm of GS iteration matrix (weakly dominant): 89.99150436406143\n"
          ]
        }
      ],
      "source": [
        "import numpy as np\n",
        "\n",
        "def gauss_seidel_iteration(A, b, num_iters, x0=None, verbose=False):\n",
        "    n = A.shape[0]\n",
        "    L = np.tril(A)\n",
        "    U = A - L\n",
        "\n",
        "    # Iteration matrix for GS: G = -L^{-1} U\n",
        "    G = -np.linalg.inv(L) @ U\n",
        "    GS_norm = np.linalg.norm(G, 2)\n",
        "\n",
        "    # Initial guess\n",
        "    x = np.zeros_like(b) if x0 is None else x0.copy()\n",
        "    history = [x.copy()]\n",
        "\n",
        "    if verbose:\n",
        "        print(f\"Spectral norm of Gauss-Seidel matrix G: {GS_norm:.6f}\")\n",
        "\n",
        "    for k in range(num_iters):\n",
        "        x_new = x.copy()\n",
        "        for i in range(n):\n",
        "            sum1 = np.dot(A[i, :i], x_new[:i])\n",
        "            sum2 = np.dot(A[i, i+1:], x[i+1:])\n",
        "            x_new[i] = (b[i] - sum1 - sum2) / A[i, i]\n",
        "        history.append(x_new.copy())\n",
        "        if verbose:\n",
        "            print(f\"Iter {k+1}, ||x_new - x|| = {np.linalg.norm(x_new-x):.6e}\")\n",
        "        x = x_new\n",
        "\n",
        "    return x, history, GS_norm\n",
        "\n",
        "if __name__ == \"__main__\":\n",
        "    # Test on a random diagonally dominant matrix\n",
        "    np.random.seed(42)\n",
        "    n = 5\n",
        "    A = np.random.rand(n, n)\n",
        "\n",
        "    for i in range(n):\n",
        "        A[i, i] = np.sum(np.abs(A[i])) + 1\n",
        "    b = np.random.rand(n)\n",
        "\n",
        "    x_gs, hist_gs, norm_gs = gauss_seidel_iteration(A, b, num_iters=25, verbose=True)\n",
        "    print(\"Final solution by Gauss-Seidel:\", x_gs)\n",
        "    print(\"Spectral norm of Gauss-Seidel iteration matrix:\", norm_gs)\n",
        "\n",
        "\n",
        "    A2 = np.random.rand(n, n)\n",
        "    b2 = np.random.rand(n)\n",
        "    x_gs2, hist_gs2, norm_gs2 = gauss_seidel_iteration(A2, b2, num_iters=25, verbose=True)\n",
        "    print(\"Final solution for weakly dominant A:\", x_gs2)\n",
        "    print(\"Spectral norm of GS iteration matrix (weakly dominant):\", norm_gs2)"
      ]
    },
    {
      "cell_type": "markdown",
      "metadata": {
        "id": "Qdl3FS71ncdH"
      },
      "source": [
        "# III. Minimum residual scheme"
      ]
    },
    {
      "cell_type": "markdown",
      "metadata": {
        "id": "nObK6vkgncdH"
      },
      "source": [
        "### Task III.1\n",
        "\n",
        "Implement the $\\textit{minimum residual}$ scheme: an explicit non-stationary method, where at each step you select the iteration parameter $\\tau_n$ to minimize the residual $\\mathbf{r}_{n+1}$ given $\\mathbf{r}_n$. Test it on a random matrix, study the convergence to the solution, in terms of the norm of the residual and the deviation from the ground truth solution (which you can obtain using a direct method). Study how the iteration parameter $\\tau_n$ changes as iterations progress.\n",
        "\n",
        "(50% of the grade)"
      ]
    },
    {
      "cell_type": "code",
      "execution_count": 5,
      "metadata": {
        "collapsed": true,
        "id": "DD4ZGftYncdI",
        "colab": {
          "base_uri": "https://localhost:8080/"
        },
        "outputId": "e6301b76-b90a-434b-b24f-89b6cd3ad604"
      },
      "outputs": [
        {
          "output_type": "stream",
          "name": "stdout",
          "text": [
            "Iter 1: tau=1.084260e-01, residual=3.282764e-01, deviation=5.915655e-02\n",
            "Iter 2: tau=1.518140e-01, residual=9.692059e-02, deviation=1.398255e-02\n",
            "Iter 3: tau=1.092730e-01, residual=2.934925e-02, deviation=5.378506e-03\n",
            "Iter 4: tau=1.528470e-01, residual=8.945052e-03, deviation=1.306683e-03\n",
            "Iter 5: tau=1.096479e-01, residual=2.757874e-03, deviation=5.099503e-04\n",
            "Iter 6: tau=1.534087e-01, residual=8.537393e-04, deviation=1.257405e-04\n",
            "Iter 7: tau=1.098876e-01, residual=2.662712e-04, deviation=4.953912e-05\n",
            "Iter 8: tau=1.538014e-01, residual=8.328277e-05, deviation=1.233668e-05\n",
            "Iter 9: tau=1.100563e-01, residual=2.618296e-05, deviation=4.891863e-06\n",
            "Iter 10: tau=1.540719e-01, residual=8.247039e-06, deviation=1.226250e-06\n",
            "Iter 11: tau=1.101682e-01, residual=2.606293e-06, deviation=4.882638e-07\n",
            "Iter 12: tau=1.542455e-01, residual=8.246241e-07, deviation=1.229001e-07\n",
            "Iter 13: tau=1.102379e-01, residual=2.614427e-07, deviation=4.905996e-08\n",
            "Iter 14: tau=1.543516e-01, residual=8.294736e-08, deviation=1.237968e-08\n",
            "Iter 15: tau=1.102799e-01, residual=2.634873e-08, deviation=4.949275e-09\n",
            "Iter 16: tau=1.544151e-01, residual=8.373353e-09, deviation=1.250756e-09\n",
            "Iter 17: tau=1.103050e-01, residual=2.662914e-09, deviation=5.004943e-10\n",
            "Iter 18: tau=1.544534e-01, residual=8.470825e-10, deviation=1.265970e-10\n",
            "Iter 19: tau=1.103203e-01, residual=2.695810e-10, deviation=5.068660e-11\n",
            "Iter 20: tau=1.544771e-01, residual=8.580711e-11, deviation=1.282817e-11\n",
            "Iter 21: tau=1.103300e-01, residual=2.732005e-11, deviation=5.137962e-12\n",
            "Iter 22: tau=1.544923e-01, residual=8.699465e-12, deviation=1.300855e-12\n",
            "Iter 23: tau=1.103365e-01, residual=2.770672e-12, deviation=5.211522e-13\n",
            "Iter 24: tau=1.545010e-01, residual=8.825041e-13, deviation=1.319849e-13\n",
            "Iter 25: tau=1.103415e-01, residual=2.811715e-13, deviation=5.288527e-14\n",
            "Final solution (min residual): [ 0.12874143 -0.00195816  0.0466379   0.07643777 -0.02339613]\n",
            "Ground truth solution: [ 0.12874143 -0.00195816  0.0466379   0.07643777 -0.02339613]\n",
            "Final residual norm: 2.811715201681401e-13\n",
            "Final deviation from ground truth: 5.288527402765988e-14\n",
            "Tau history: [np.float64(0.10842604820137995), np.float64(0.15181397619510384), np.float64(0.10927297304715003), np.float64(0.15284701657857674), np.float64(0.10964788750996167), np.float64(0.15340868691384024), np.float64(0.10988758961639729), np.float64(0.1538014064424565), np.float64(0.1100563333674668), np.float64(0.154071853261207), np.float64(0.11016821253021668), np.float64(0.1542454840113255), np.float64(0.11023791469686713), np.float64(0.15435157189017476), np.float64(0.11027988135173519), np.float64(0.15441509228928288), np.float64(0.11030499179090869), np.float64(0.15445336780585422), np.float64(0.11032028757560387), np.float64(0.1544771318955595), np.float64(0.11033001548444278), np.float64(0.15449233487719502), np.float64(0.1103365259253319), np.float64(0.1545010470305915), np.float64(0.11034147349230869)]\n"
          ]
        }
      ],
      "source": [
        "import numpy as np\n",
        "\n",
        "def minimum_residual_scheme(A, b, num_iters, x0=None, verbose=False):\n",
        "    n = A.shape[0]\n",
        "    x = np.zeros_like(b) if x0 is None else x0.copy()\n",
        "    res_history = []\n",
        "    dev_history = []\n",
        "    tau_history = []\n",
        "\n",
        "    # Ground truth solution via direct method\n",
        "    x_true = np.linalg.solve(A, b)\n",
        "\n",
        "    for k in range(num_iters):\n",
        "        r = b - A @ x\n",
        "        Ar = A @ r\n",
        "        tau = np.dot(Ar, r) / np.dot(Ar, Ar) if np.dot(Ar, Ar) != 0 else 0\n",
        "        x_new = x + tau * r\n",
        "        res_norm = np.linalg.norm(b - A @ x_new)\n",
        "        dev_norm = np.linalg.norm(x_new - x_true)\n",
        "        if verbose:\n",
        "            print(f\"Iter {k+1}: tau={tau:.6e}, residual={res_norm:.6e}, deviation={dev_norm:.6e}\")\n",
        "        x = x_new\n",
        "        res_history.append(res_norm)\n",
        "        dev_history.append(dev_norm)\n",
        "        tau_history.append(tau)\n",
        "\n",
        "    return x, res_history, dev_history, tau_history, x_true\n",
        "\n",
        "if __name__ == \"__main__\":\n",
        "    np.random.seed(42)\n",
        "    n = 5\n",
        "    A = np.random.rand(n, n)\n",
        "    A = A.T @ A + n * np.eye(n)\n",
        "    b = np.random.rand(n)\n",
        "\n",
        "    x_minres, res_hist, dev_hist, tau_hist, x_true = minimum_residual_scheme(A, b, num_iters=25, verbose=True)\n",
        "    print(\"Final solution (min residual):\", x_minres)\n",
        "    print(\"Ground truth solution:\", x_true)\n",
        "    print(\"Final residual norm:\", res_hist[-1])\n",
        "    print(\"Final deviation from ground truth:\", dev_hist[-1])\n",
        "    print(\"Tau history:\", tau_hist)"
      ]
    }
  ],
  "metadata": {
    "kernelspec": {
      "display_name": "Python 3",
      "language": "python",
      "name": "python3"
    },
    "language_info": {
      "codemirror_mode": {
        "name": "ipython",
        "version": 3
      },
      "file_extension": ".py",
      "mimetype": "text/x-python",
      "name": "python",
      "nbconvert_exporter": "python",
      "pygments_lexer": "ipython3",
      "version": "3.5.2"
    },
    "colab": {
      "provenance": []
    }
  },
  "nbformat": 4,
  "nbformat_minor": 0
}